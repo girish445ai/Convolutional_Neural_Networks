{
  "nbformat": 4,
  "nbformat_minor": 0,
  "metadata": {
    "colab": {
      "name": "Convolutional_Neural_Networks_PART_B.ipynb",
      "provenance": [],
      "collapsed_sections": [],
      "include_colab_link": true
    },
    "kernelspec": {
      "name": "python3",
      "display_name": "Python 3"
    },
    "language_info": {
      "name": "python"
    },
    "accelerator": "GPU",
    "widgets": {
      "application/vnd.jupyter.widget-state+json": {
        "556090f6ca5947caaf249dd27f7355ce": {
          "model_module": "@jupyter-widgets/controls",
          "model_name": "VBoxModel",
          "model_module_version": "1.5.0",
          "state": {
            "_dom_classes": [],
            "_model_module": "@jupyter-widgets/controls",
            "_model_module_version": "1.5.0",
            "_model_name": "VBoxModel",
            "_view_count": null,
            "_view_module": "@jupyter-widgets/controls",
            "_view_module_version": "1.5.0",
            "_view_name": "VBoxView",
            "box_style": "",
            "children": [
              "IPY_MODEL_9a39caab73684d1e8302c7cec2848ac9",
              "IPY_MODEL_220b3aeec9b64577a2c90b3e6b3a4a67"
            ],
            "layout": "IPY_MODEL_30876da09da64a0e8e825862154d14a6"
          }
        },
        "9a39caab73684d1e8302c7cec2848ac9": {
          "model_module": "@jupyter-widgets/controls",
          "model_name": "LabelModel",
          "model_module_version": "1.5.0",
          "state": {
            "_dom_classes": [],
            "_model_module": "@jupyter-widgets/controls",
            "_model_module_version": "1.5.0",
            "_model_name": "LabelModel",
            "_view_count": null,
            "_view_module": "@jupyter-widgets/controls",
            "_view_module_version": "1.5.0",
            "_view_name": "LabelView",
            "description": "",
            "description_tooltip": null,
            "layout": "IPY_MODEL_eec8fcd163234674b083093a059af20b",
            "placeholder": "​",
            "style": "IPY_MODEL_92e9ad33fbad4ad18cc0cde0bdff6caa",
            "value": "0.009 MB of 0.009 MB uploaded (0.000 MB deduped)\r"
          }
        },
        "220b3aeec9b64577a2c90b3e6b3a4a67": {
          "model_module": "@jupyter-widgets/controls",
          "model_name": "FloatProgressModel",
          "model_module_version": "1.5.0",
          "state": {
            "_dom_classes": [],
            "_model_module": "@jupyter-widgets/controls",
            "_model_module_version": "1.5.0",
            "_model_name": "FloatProgressModel",
            "_view_count": null,
            "_view_module": "@jupyter-widgets/controls",
            "_view_module_version": "1.5.0",
            "_view_name": "ProgressView",
            "bar_style": "",
            "description": "",
            "description_tooltip": null,
            "layout": "IPY_MODEL_58641dc270964456bd0856bf6f032d1c",
            "max": 1,
            "min": 0,
            "orientation": "horizontal",
            "style": "IPY_MODEL_9ea7feaafcb44057a25b6522b434efaf",
            "value": 1
          }
        },
        "30876da09da64a0e8e825862154d14a6": {
          "model_module": "@jupyter-widgets/base",
          "model_name": "LayoutModel",
          "model_module_version": "1.2.0",
          "state": {
            "_model_module": "@jupyter-widgets/base",
            "_model_module_version": "1.2.0",
            "_model_name": "LayoutModel",
            "_view_count": null,
            "_view_module": "@jupyter-widgets/base",
            "_view_module_version": "1.2.0",
            "_view_name": "LayoutView",
            "align_content": null,
            "align_items": null,
            "align_self": null,
            "border": null,
            "bottom": null,
            "display": null,
            "flex": null,
            "flex_flow": null,
            "grid_area": null,
            "grid_auto_columns": null,
            "grid_auto_flow": null,
            "grid_auto_rows": null,
            "grid_column": null,
            "grid_gap": null,
            "grid_row": null,
            "grid_template_areas": null,
            "grid_template_columns": null,
            "grid_template_rows": null,
            "height": null,
            "justify_content": null,
            "justify_items": null,
            "left": null,
            "margin": null,
            "max_height": null,
            "max_width": null,
            "min_height": null,
            "min_width": null,
            "object_fit": null,
            "object_position": null,
            "order": null,
            "overflow": null,
            "overflow_x": null,
            "overflow_y": null,
            "padding": null,
            "right": null,
            "top": null,
            "visibility": null,
            "width": null
          }
        },
        "eec8fcd163234674b083093a059af20b": {
          "model_module": "@jupyter-widgets/base",
          "model_name": "LayoutModel",
          "model_module_version": "1.2.0",
          "state": {
            "_model_module": "@jupyter-widgets/base",
            "_model_module_version": "1.2.0",
            "_model_name": "LayoutModel",
            "_view_count": null,
            "_view_module": "@jupyter-widgets/base",
            "_view_module_version": "1.2.0",
            "_view_name": "LayoutView",
            "align_content": null,
            "align_items": null,
            "align_self": null,
            "border": null,
            "bottom": null,
            "display": null,
            "flex": null,
            "flex_flow": null,
            "grid_area": null,
            "grid_auto_columns": null,
            "grid_auto_flow": null,
            "grid_auto_rows": null,
            "grid_column": null,
            "grid_gap": null,
            "grid_row": null,
            "grid_template_areas": null,
            "grid_template_columns": null,
            "grid_template_rows": null,
            "height": null,
            "justify_content": null,
            "justify_items": null,
            "left": null,
            "margin": null,
            "max_height": null,
            "max_width": null,
            "min_height": null,
            "min_width": null,
            "object_fit": null,
            "object_position": null,
            "order": null,
            "overflow": null,
            "overflow_x": null,
            "overflow_y": null,
            "padding": null,
            "right": null,
            "top": null,
            "visibility": null,
            "width": null
          }
        },
        "92e9ad33fbad4ad18cc0cde0bdff6caa": {
          "model_module": "@jupyter-widgets/controls",
          "model_name": "DescriptionStyleModel",
          "model_module_version": "1.5.0",
          "state": {
            "_model_module": "@jupyter-widgets/controls",
            "_model_module_version": "1.5.0",
            "_model_name": "DescriptionStyleModel",
            "_view_count": null,
            "_view_module": "@jupyter-widgets/base",
            "_view_module_version": "1.2.0",
            "_view_name": "StyleView",
            "description_width": ""
          }
        },
        "58641dc270964456bd0856bf6f032d1c": {
          "model_module": "@jupyter-widgets/base",
          "model_name": "LayoutModel",
          "model_module_version": "1.2.0",
          "state": {
            "_model_module": "@jupyter-widgets/base",
            "_model_module_version": "1.2.0",
            "_model_name": "LayoutModel",
            "_view_count": null,
            "_view_module": "@jupyter-widgets/base",
            "_view_module_version": "1.2.0",
            "_view_name": "LayoutView",
            "align_content": null,
            "align_items": null,
            "align_self": null,
            "border": null,
            "bottom": null,
            "display": null,
            "flex": null,
            "flex_flow": null,
            "grid_area": null,
            "grid_auto_columns": null,
            "grid_auto_flow": null,
            "grid_auto_rows": null,
            "grid_column": null,
            "grid_gap": null,
            "grid_row": null,
            "grid_template_areas": null,
            "grid_template_columns": null,
            "grid_template_rows": null,
            "height": null,
            "justify_content": null,
            "justify_items": null,
            "left": null,
            "margin": null,
            "max_height": null,
            "max_width": null,
            "min_height": null,
            "min_width": null,
            "object_fit": null,
            "object_position": null,
            "order": null,
            "overflow": null,
            "overflow_x": null,
            "overflow_y": null,
            "padding": null,
            "right": null,
            "top": null,
            "visibility": null,
            "width": null
          }
        },
        "9ea7feaafcb44057a25b6522b434efaf": {
          "model_module": "@jupyter-widgets/controls",
          "model_name": "ProgressStyleModel",
          "model_module_version": "1.5.0",
          "state": {
            "_model_module": "@jupyter-widgets/controls",
            "_model_module_version": "1.5.0",
            "_model_name": "ProgressStyleModel",
            "_view_count": null,
            "_view_module": "@jupyter-widgets/base",
            "_view_module_version": "1.2.0",
            "_view_name": "StyleView",
            "bar_color": null,
            "description_width": ""
          }
        },
        "17db033f96bf4172a44668f1d615e743": {
          "model_module": "@jupyter-widgets/controls",
          "model_name": "VBoxModel",
          "model_module_version": "1.5.0",
          "state": {
            "_dom_classes": [],
            "_model_module": "@jupyter-widgets/controls",
            "_model_module_version": "1.5.0",
            "_model_name": "VBoxModel",
            "_view_count": null,
            "_view_module": "@jupyter-widgets/controls",
            "_view_module_version": "1.5.0",
            "_view_name": "VBoxView",
            "box_style": "",
            "children": [
              "IPY_MODEL_3c416498302b43e39eb43ca26c5cb98e",
              "IPY_MODEL_2b5e9186e39442f4b9f930be1671e191"
            ],
            "layout": "IPY_MODEL_ae5adb2cdc664673a909fe0939b6275b"
          }
        },
        "3c416498302b43e39eb43ca26c5cb98e": {
          "model_module": "@jupyter-widgets/controls",
          "model_name": "LabelModel",
          "model_module_version": "1.5.0",
          "state": {
            "_dom_classes": [],
            "_model_module": "@jupyter-widgets/controls",
            "_model_module_version": "1.5.0",
            "_model_name": "LabelModel",
            "_view_count": null,
            "_view_module": "@jupyter-widgets/controls",
            "_view_module_version": "1.5.0",
            "_view_name": "LabelView",
            "description": "",
            "description_tooltip": null,
            "layout": "IPY_MODEL_9390261552c64e4181d2335d433d555e",
            "placeholder": "​",
            "style": "IPY_MODEL_a571a37a66cc4038b5d1bd94ee057d22",
            "value": "528.537 MB of 528.537 MB uploaded (0.000 MB deduped)\r"
          }
        },
        "2b5e9186e39442f4b9f930be1671e191": {
          "model_module": "@jupyter-widgets/controls",
          "model_name": "FloatProgressModel",
          "model_module_version": "1.5.0",
          "state": {
            "_dom_classes": [],
            "_model_module": "@jupyter-widgets/controls",
            "_model_module_version": "1.5.0",
            "_model_name": "FloatProgressModel",
            "_view_count": null,
            "_view_module": "@jupyter-widgets/controls",
            "_view_module_version": "1.5.0",
            "_view_name": "ProgressView",
            "bar_style": "",
            "description": "",
            "description_tooltip": null,
            "layout": "IPY_MODEL_f10a234d7ff144d0b69c7f6dd7ec407a",
            "max": 1,
            "min": 0,
            "orientation": "horizontal",
            "style": "IPY_MODEL_1cea45d1d44d4600baed0c6deb64ee7f",
            "value": 1
          }
        },
        "ae5adb2cdc664673a909fe0939b6275b": {
          "model_module": "@jupyter-widgets/base",
          "model_name": "LayoutModel",
          "model_module_version": "1.2.0",
          "state": {
            "_model_module": "@jupyter-widgets/base",
            "_model_module_version": "1.2.0",
            "_model_name": "LayoutModel",
            "_view_count": null,
            "_view_module": "@jupyter-widgets/base",
            "_view_module_version": "1.2.0",
            "_view_name": "LayoutView",
            "align_content": null,
            "align_items": null,
            "align_self": null,
            "border": null,
            "bottom": null,
            "display": null,
            "flex": null,
            "flex_flow": null,
            "grid_area": null,
            "grid_auto_columns": null,
            "grid_auto_flow": null,
            "grid_auto_rows": null,
            "grid_column": null,
            "grid_gap": null,
            "grid_row": null,
            "grid_template_areas": null,
            "grid_template_columns": null,
            "grid_template_rows": null,
            "height": null,
            "justify_content": null,
            "justify_items": null,
            "left": null,
            "margin": null,
            "max_height": null,
            "max_width": null,
            "min_height": null,
            "min_width": null,
            "object_fit": null,
            "object_position": null,
            "order": null,
            "overflow": null,
            "overflow_x": null,
            "overflow_y": null,
            "padding": null,
            "right": null,
            "top": null,
            "visibility": null,
            "width": null
          }
        },
        "9390261552c64e4181d2335d433d555e": {
          "model_module": "@jupyter-widgets/base",
          "model_name": "LayoutModel",
          "model_module_version": "1.2.0",
          "state": {
            "_model_module": "@jupyter-widgets/base",
            "_model_module_version": "1.2.0",
            "_model_name": "LayoutModel",
            "_view_count": null,
            "_view_module": "@jupyter-widgets/base",
            "_view_module_version": "1.2.0",
            "_view_name": "LayoutView",
            "align_content": null,
            "align_items": null,
            "align_self": null,
            "border": null,
            "bottom": null,
            "display": null,
            "flex": null,
            "flex_flow": null,
            "grid_area": null,
            "grid_auto_columns": null,
            "grid_auto_flow": null,
            "grid_auto_rows": null,
            "grid_column": null,
            "grid_gap": null,
            "grid_row": null,
            "grid_template_areas": null,
            "grid_template_columns": null,
            "grid_template_rows": null,
            "height": null,
            "justify_content": null,
            "justify_items": null,
            "left": null,
            "margin": null,
            "max_height": null,
            "max_width": null,
            "min_height": null,
            "min_width": null,
            "object_fit": null,
            "object_position": null,
            "order": null,
            "overflow": null,
            "overflow_x": null,
            "overflow_y": null,
            "padding": null,
            "right": null,
            "top": null,
            "visibility": null,
            "width": null
          }
        },
        "a571a37a66cc4038b5d1bd94ee057d22": {
          "model_module": "@jupyter-widgets/controls",
          "model_name": "DescriptionStyleModel",
          "model_module_version": "1.5.0",
          "state": {
            "_model_module": "@jupyter-widgets/controls",
            "_model_module_version": "1.5.0",
            "_model_name": "DescriptionStyleModel",
            "_view_count": null,
            "_view_module": "@jupyter-widgets/base",
            "_view_module_version": "1.2.0",
            "_view_name": "StyleView",
            "description_width": ""
          }
        },
        "f10a234d7ff144d0b69c7f6dd7ec407a": {
          "model_module": "@jupyter-widgets/base",
          "model_name": "LayoutModel",
          "model_module_version": "1.2.0",
          "state": {
            "_model_module": "@jupyter-widgets/base",
            "_model_module_version": "1.2.0",
            "_model_name": "LayoutModel",
            "_view_count": null,
            "_view_module": "@jupyter-widgets/base",
            "_view_module_version": "1.2.0",
            "_view_name": "LayoutView",
            "align_content": null,
            "align_items": null,
            "align_self": null,
            "border": null,
            "bottom": null,
            "display": null,
            "flex": null,
            "flex_flow": null,
            "grid_area": null,
            "grid_auto_columns": null,
            "grid_auto_flow": null,
            "grid_auto_rows": null,
            "grid_column": null,
            "grid_gap": null,
            "grid_row": null,
            "grid_template_areas": null,
            "grid_template_columns": null,
            "grid_template_rows": null,
            "height": null,
            "justify_content": null,
            "justify_items": null,
            "left": null,
            "margin": null,
            "max_height": null,
            "max_width": null,
            "min_height": null,
            "min_width": null,
            "object_fit": null,
            "object_position": null,
            "order": null,
            "overflow": null,
            "overflow_x": null,
            "overflow_y": null,
            "padding": null,
            "right": null,
            "top": null,
            "visibility": null,
            "width": null
          }
        },
        "1cea45d1d44d4600baed0c6deb64ee7f": {
          "model_module": "@jupyter-widgets/controls",
          "model_name": "ProgressStyleModel",
          "model_module_version": "1.5.0",
          "state": {
            "_model_module": "@jupyter-widgets/controls",
            "_model_module_version": "1.5.0",
            "_model_name": "ProgressStyleModel",
            "_view_count": null,
            "_view_module": "@jupyter-widgets/base",
            "_view_module_version": "1.2.0",
            "_view_name": "StyleView",
            "bar_color": null,
            "description_width": ""
          }
        },
        "65285d50ac4f4bc48e810f764c6bd7a9": {
          "model_module": "@jupyter-widgets/controls",
          "model_name": "VBoxModel",
          "model_module_version": "1.5.0",
          "state": {
            "_dom_classes": [],
            "_model_module": "@jupyter-widgets/controls",
            "_model_module_version": "1.5.0",
            "_model_name": "VBoxModel",
            "_view_count": null,
            "_view_module": "@jupyter-widgets/controls",
            "_view_module_version": "1.5.0",
            "_view_name": "VBoxView",
            "box_style": "",
            "children": [
              "IPY_MODEL_a2cab4c613304c819c9944386c4b2079",
              "IPY_MODEL_58c432d2fe384080a37b79304bcc6113"
            ],
            "layout": "IPY_MODEL_14a1cec974f947eca5f49916f3a3689a"
          }
        },
        "a2cab4c613304c819c9944386c4b2079": {
          "model_module": "@jupyter-widgets/controls",
          "model_name": "LabelModel",
          "model_module_version": "1.5.0",
          "state": {
            "_dom_classes": [],
            "_model_module": "@jupyter-widgets/controls",
            "_model_module_version": "1.5.0",
            "_model_name": "LabelModel",
            "_view_count": null,
            "_view_module": "@jupyter-widgets/controls",
            "_view_module_version": "1.5.0",
            "_view_name": "LabelView",
            "description": "",
            "description_tooltip": null,
            "layout": "IPY_MODEL_fbcc81f297a848bbaaa47e3dd5a1fff7",
            "placeholder": "​",
            "style": "IPY_MODEL_095f1fdb534444ea97c3ed88edf44371",
            "value": "0.009 MB of 0.009 MB uploaded (0.000 MB deduped)\r"
          }
        },
        "58c432d2fe384080a37b79304bcc6113": {
          "model_module": "@jupyter-widgets/controls",
          "model_name": "FloatProgressModel",
          "model_module_version": "1.5.0",
          "state": {
            "_dom_classes": [],
            "_model_module": "@jupyter-widgets/controls",
            "_model_module_version": "1.5.0",
            "_model_name": "FloatProgressModel",
            "_view_count": null,
            "_view_module": "@jupyter-widgets/controls",
            "_view_module_version": "1.5.0",
            "_view_name": "ProgressView",
            "bar_style": "",
            "description": "",
            "description_tooltip": null,
            "layout": "IPY_MODEL_fc2eaf5d109a4a71aafacc77acc3edf1",
            "max": 1,
            "min": 0,
            "orientation": "horizontal",
            "style": "IPY_MODEL_138b33d6f4174536b66d0e98c3e719c2",
            "value": 1
          }
        },
        "14a1cec974f947eca5f49916f3a3689a": {
          "model_module": "@jupyter-widgets/base",
          "model_name": "LayoutModel",
          "model_module_version": "1.2.0",
          "state": {
            "_model_module": "@jupyter-widgets/base",
            "_model_module_version": "1.2.0",
            "_model_name": "LayoutModel",
            "_view_count": null,
            "_view_module": "@jupyter-widgets/base",
            "_view_module_version": "1.2.0",
            "_view_name": "LayoutView",
            "align_content": null,
            "align_items": null,
            "align_self": null,
            "border": null,
            "bottom": null,
            "display": null,
            "flex": null,
            "flex_flow": null,
            "grid_area": null,
            "grid_auto_columns": null,
            "grid_auto_flow": null,
            "grid_auto_rows": null,
            "grid_column": null,
            "grid_gap": null,
            "grid_row": null,
            "grid_template_areas": null,
            "grid_template_columns": null,
            "grid_template_rows": null,
            "height": null,
            "justify_content": null,
            "justify_items": null,
            "left": null,
            "margin": null,
            "max_height": null,
            "max_width": null,
            "min_height": null,
            "min_width": null,
            "object_fit": null,
            "object_position": null,
            "order": null,
            "overflow": null,
            "overflow_x": null,
            "overflow_y": null,
            "padding": null,
            "right": null,
            "top": null,
            "visibility": null,
            "width": null
          }
        },
        "fbcc81f297a848bbaaa47e3dd5a1fff7": {
          "model_module": "@jupyter-widgets/base",
          "model_name": "LayoutModel",
          "model_module_version": "1.2.0",
          "state": {
            "_model_module": "@jupyter-widgets/base",
            "_model_module_version": "1.2.0",
            "_model_name": "LayoutModel",
            "_view_count": null,
            "_view_module": "@jupyter-widgets/base",
            "_view_module_version": "1.2.0",
            "_view_name": "LayoutView",
            "align_content": null,
            "align_items": null,
            "align_self": null,
            "border": null,
            "bottom": null,
            "display": null,
            "flex": null,
            "flex_flow": null,
            "grid_area": null,
            "grid_auto_columns": null,
            "grid_auto_flow": null,
            "grid_auto_rows": null,
            "grid_column": null,
            "grid_gap": null,
            "grid_row": null,
            "grid_template_areas": null,
            "grid_template_columns": null,
            "grid_template_rows": null,
            "height": null,
            "justify_content": null,
            "justify_items": null,
            "left": null,
            "margin": null,
            "max_height": null,
            "max_width": null,
            "min_height": null,
            "min_width": null,
            "object_fit": null,
            "object_position": null,
            "order": null,
            "overflow": null,
            "overflow_x": null,
            "overflow_y": null,
            "padding": null,
            "right": null,
            "top": null,
            "visibility": null,
            "width": null
          }
        },
        "095f1fdb534444ea97c3ed88edf44371": {
          "model_module": "@jupyter-widgets/controls",
          "model_name": "DescriptionStyleModel",
          "model_module_version": "1.5.0",
          "state": {
            "_model_module": "@jupyter-widgets/controls",
            "_model_module_version": "1.5.0",
            "_model_name": "DescriptionStyleModel",
            "_view_count": null,
            "_view_module": "@jupyter-widgets/base",
            "_view_module_version": "1.2.0",
            "_view_name": "StyleView",
            "description_width": ""
          }
        },
        "fc2eaf5d109a4a71aafacc77acc3edf1": {
          "model_module": "@jupyter-widgets/base",
          "model_name": "LayoutModel",
          "model_module_version": "1.2.0",
          "state": {
            "_model_module": "@jupyter-widgets/base",
            "_model_module_version": "1.2.0",
            "_model_name": "LayoutModel",
            "_view_count": null,
            "_view_module": "@jupyter-widgets/base",
            "_view_module_version": "1.2.0",
            "_view_name": "LayoutView",
            "align_content": null,
            "align_items": null,
            "align_self": null,
            "border": null,
            "bottom": null,
            "display": null,
            "flex": null,
            "flex_flow": null,
            "grid_area": null,
            "grid_auto_columns": null,
            "grid_auto_flow": null,
            "grid_auto_rows": null,
            "grid_column": null,
            "grid_gap": null,
            "grid_row": null,
            "grid_template_areas": null,
            "grid_template_columns": null,
            "grid_template_rows": null,
            "height": null,
            "justify_content": null,
            "justify_items": null,
            "left": null,
            "margin": null,
            "max_height": null,
            "max_width": null,
            "min_height": null,
            "min_width": null,
            "object_fit": null,
            "object_position": null,
            "order": null,
            "overflow": null,
            "overflow_x": null,
            "overflow_y": null,
            "padding": null,
            "right": null,
            "top": null,
            "visibility": null,
            "width": null
          }
        },
        "138b33d6f4174536b66d0e98c3e719c2": {
          "model_module": "@jupyter-widgets/controls",
          "model_name": "ProgressStyleModel",
          "model_module_version": "1.5.0",
          "state": {
            "_model_module": "@jupyter-widgets/controls",
            "_model_module_version": "1.5.0",
            "_model_name": "ProgressStyleModel",
            "_view_count": null,
            "_view_module": "@jupyter-widgets/base",
            "_view_module_version": "1.2.0",
            "_view_name": "StyleView",
            "bar_color": null,
            "description_width": ""
          }
        },
        "89aff19eb2044545bc1e8f66aa61bad4": {
          "model_module": "@jupyter-widgets/controls",
          "model_name": "VBoxModel",
          "model_module_version": "1.5.0",
          "state": {
            "_dom_classes": [],
            "_model_module": "@jupyter-widgets/controls",
            "_model_module_version": "1.5.0",
            "_model_name": "VBoxModel",
            "_view_count": null,
            "_view_module": "@jupyter-widgets/controls",
            "_view_module_version": "1.5.0",
            "_view_name": "VBoxView",
            "box_style": "",
            "children": [
              "IPY_MODEL_47e80e305f68460d8484fc7d93595ba6",
              "IPY_MODEL_725630829fe041eb8f09325734b9047a"
            ],
            "layout": "IPY_MODEL_8c338330f16242528da27324ff003bb5"
          }
        },
        "47e80e305f68460d8484fc7d93595ba6": {
          "model_module": "@jupyter-widgets/controls",
          "model_name": "LabelModel",
          "model_module_version": "1.5.0",
          "state": {
            "_dom_classes": [],
            "_model_module": "@jupyter-widgets/controls",
            "_model_module_version": "1.5.0",
            "_model_name": "LabelModel",
            "_view_count": null,
            "_view_module": "@jupyter-widgets/controls",
            "_view_module_version": "1.5.0",
            "_view_name": "LabelView",
            "description": "",
            "description_tooltip": null,
            "layout": "IPY_MODEL_d6257a26a1f1484bacb7742f9a9e2543",
            "placeholder": "​",
            "style": "IPY_MODEL_581ffc5e4a7c4c89a525b01357b36576",
            "value": "444.258 MB of 444.258 MB uploaded (0.000 MB deduped)\r"
          }
        },
        "725630829fe041eb8f09325734b9047a": {
          "model_module": "@jupyter-widgets/controls",
          "model_name": "FloatProgressModel",
          "model_module_version": "1.5.0",
          "state": {
            "_dom_classes": [],
            "_model_module": "@jupyter-widgets/controls",
            "_model_module_version": "1.5.0",
            "_model_name": "FloatProgressModel",
            "_view_count": null,
            "_view_module": "@jupyter-widgets/controls",
            "_view_module_version": "1.5.0",
            "_view_name": "ProgressView",
            "bar_style": "",
            "description": "",
            "description_tooltip": null,
            "layout": "IPY_MODEL_8ba9da8c261b44df998d4ecf5205c9ea",
            "max": 1,
            "min": 0,
            "orientation": "horizontal",
            "style": "IPY_MODEL_76b3dcf644da4915925cccb8fa458a61",
            "value": 1
          }
        },
        "8c338330f16242528da27324ff003bb5": {
          "model_module": "@jupyter-widgets/base",
          "model_name": "LayoutModel",
          "model_module_version": "1.2.0",
          "state": {
            "_model_module": "@jupyter-widgets/base",
            "_model_module_version": "1.2.0",
            "_model_name": "LayoutModel",
            "_view_count": null,
            "_view_module": "@jupyter-widgets/base",
            "_view_module_version": "1.2.0",
            "_view_name": "LayoutView",
            "align_content": null,
            "align_items": null,
            "align_self": null,
            "border": null,
            "bottom": null,
            "display": null,
            "flex": null,
            "flex_flow": null,
            "grid_area": null,
            "grid_auto_columns": null,
            "grid_auto_flow": null,
            "grid_auto_rows": null,
            "grid_column": null,
            "grid_gap": null,
            "grid_row": null,
            "grid_template_areas": null,
            "grid_template_columns": null,
            "grid_template_rows": null,
            "height": null,
            "justify_content": null,
            "justify_items": null,
            "left": null,
            "margin": null,
            "max_height": null,
            "max_width": null,
            "min_height": null,
            "min_width": null,
            "object_fit": null,
            "object_position": null,
            "order": null,
            "overflow": null,
            "overflow_x": null,
            "overflow_y": null,
            "padding": null,
            "right": null,
            "top": null,
            "visibility": null,
            "width": null
          }
        },
        "d6257a26a1f1484bacb7742f9a9e2543": {
          "model_module": "@jupyter-widgets/base",
          "model_name": "LayoutModel",
          "model_module_version": "1.2.0",
          "state": {
            "_model_module": "@jupyter-widgets/base",
            "_model_module_version": "1.2.0",
            "_model_name": "LayoutModel",
            "_view_count": null,
            "_view_module": "@jupyter-widgets/base",
            "_view_module_version": "1.2.0",
            "_view_name": "LayoutView",
            "align_content": null,
            "align_items": null,
            "align_self": null,
            "border": null,
            "bottom": null,
            "display": null,
            "flex": null,
            "flex_flow": null,
            "grid_area": null,
            "grid_auto_columns": null,
            "grid_auto_flow": null,
            "grid_auto_rows": null,
            "grid_column": null,
            "grid_gap": null,
            "grid_row": null,
            "grid_template_areas": null,
            "grid_template_columns": null,
            "grid_template_rows": null,
            "height": null,
            "justify_content": null,
            "justify_items": null,
            "left": null,
            "margin": null,
            "max_height": null,
            "max_width": null,
            "min_height": null,
            "min_width": null,
            "object_fit": null,
            "object_position": null,
            "order": null,
            "overflow": null,
            "overflow_x": null,
            "overflow_y": null,
            "padding": null,
            "right": null,
            "top": null,
            "visibility": null,
            "width": null
          }
        },
        "581ffc5e4a7c4c89a525b01357b36576": {
          "model_module": "@jupyter-widgets/controls",
          "model_name": "DescriptionStyleModel",
          "model_module_version": "1.5.0",
          "state": {
            "_model_module": "@jupyter-widgets/controls",
            "_model_module_version": "1.5.0",
            "_model_name": "DescriptionStyleModel",
            "_view_count": null,
            "_view_module": "@jupyter-widgets/base",
            "_view_module_version": "1.2.0",
            "_view_name": "StyleView",
            "description_width": ""
          }
        },
        "8ba9da8c261b44df998d4ecf5205c9ea": {
          "model_module": "@jupyter-widgets/base",
          "model_name": "LayoutModel",
          "model_module_version": "1.2.0",
          "state": {
            "_model_module": "@jupyter-widgets/base",
            "_model_module_version": "1.2.0",
            "_model_name": "LayoutModel",
            "_view_count": null,
            "_view_module": "@jupyter-widgets/base",
            "_view_module_version": "1.2.0",
            "_view_name": "LayoutView",
            "align_content": null,
            "align_items": null,
            "align_self": null,
            "border": null,
            "bottom": null,
            "display": null,
            "flex": null,
            "flex_flow": null,
            "grid_area": null,
            "grid_auto_columns": null,
            "grid_auto_flow": null,
            "grid_auto_rows": null,
            "grid_column": null,
            "grid_gap": null,
            "grid_row": null,
            "grid_template_areas": null,
            "grid_template_columns": null,
            "grid_template_rows": null,
            "height": null,
            "justify_content": null,
            "justify_items": null,
            "left": null,
            "margin": null,
            "max_height": null,
            "max_width": null,
            "min_height": null,
            "min_width": null,
            "object_fit": null,
            "object_position": null,
            "order": null,
            "overflow": null,
            "overflow_x": null,
            "overflow_y": null,
            "padding": null,
            "right": null,
            "top": null,
            "visibility": null,
            "width": null
          }
        },
        "76b3dcf644da4915925cccb8fa458a61": {
          "model_module": "@jupyter-widgets/controls",
          "model_name": "ProgressStyleModel",
          "model_module_version": "1.5.0",
          "state": {
            "_model_module": "@jupyter-widgets/controls",
            "_model_module_version": "1.5.0",
            "_model_name": "ProgressStyleModel",
            "_view_count": null,
            "_view_module": "@jupyter-widgets/base",
            "_view_module_version": "1.2.0",
            "_view_name": "StyleView",
            "bar_color": null,
            "description_width": ""
          }
        },
        "4918bc9749824e9590ab029b80eec770": {
          "model_module": "@jupyter-widgets/controls",
          "model_name": "VBoxModel",
          "model_module_version": "1.5.0",
          "state": {
            "_dom_classes": [],
            "_model_module": "@jupyter-widgets/controls",
            "_model_module_version": "1.5.0",
            "_model_name": "VBoxModel",
            "_view_count": null,
            "_view_module": "@jupyter-widgets/controls",
            "_view_module_version": "1.5.0",
            "_view_name": "VBoxView",
            "box_style": "",
            "children": [
              "IPY_MODEL_e95a9fecb3124fb9a4972d6a46b81d4c",
              "IPY_MODEL_f87fa96592ad464aa69ae1ce909d8d18"
            ],
            "layout": "IPY_MODEL_b9367c03441a4d6d8e5bf41e575118ec"
          }
        },
        "e95a9fecb3124fb9a4972d6a46b81d4c": {
          "model_module": "@jupyter-widgets/controls",
          "model_name": "LabelModel",
          "model_module_version": "1.5.0",
          "state": {
            "_dom_classes": [],
            "_model_module": "@jupyter-widgets/controls",
            "_model_module_version": "1.5.0",
            "_model_name": "LabelModel",
            "_view_count": null,
            "_view_module": "@jupyter-widgets/controls",
            "_view_module_version": "1.5.0",
            "_view_name": "LabelView",
            "description": "",
            "description_tooltip": null,
            "layout": "IPY_MODEL_1eb2848a88a24c46ad8eba13d4251f78",
            "placeholder": "​",
            "style": "IPY_MODEL_6d2ba9e994544cf2ab72b8da8229ee95",
            "value": "0.009 MB of 0.009 MB uploaded (0.000 MB deduped)\r"
          }
        },
        "f87fa96592ad464aa69ae1ce909d8d18": {
          "model_module": "@jupyter-widgets/controls",
          "model_name": "FloatProgressModel",
          "model_module_version": "1.5.0",
          "state": {
            "_dom_classes": [],
            "_model_module": "@jupyter-widgets/controls",
            "_model_module_version": "1.5.0",
            "_model_name": "FloatProgressModel",
            "_view_count": null,
            "_view_module": "@jupyter-widgets/controls",
            "_view_module_version": "1.5.0",
            "_view_name": "ProgressView",
            "bar_style": "",
            "description": "",
            "description_tooltip": null,
            "layout": "IPY_MODEL_e5a1819f05804e609d388088cc048128",
            "max": 1,
            "min": 0,
            "orientation": "horizontal",
            "style": "IPY_MODEL_2f2f003545f74304a9c04379f0a72c7b",
            "value": 1
          }
        },
        "b9367c03441a4d6d8e5bf41e575118ec": {
          "model_module": "@jupyter-widgets/base",
          "model_name": "LayoutModel",
          "model_module_version": "1.2.0",
          "state": {
            "_model_module": "@jupyter-widgets/base",
            "_model_module_version": "1.2.0",
            "_model_name": "LayoutModel",
            "_view_count": null,
            "_view_module": "@jupyter-widgets/base",
            "_view_module_version": "1.2.0",
            "_view_name": "LayoutView",
            "align_content": null,
            "align_items": null,
            "align_self": null,
            "border": null,
            "bottom": null,
            "display": null,
            "flex": null,
            "flex_flow": null,
            "grid_area": null,
            "grid_auto_columns": null,
            "grid_auto_flow": null,
            "grid_auto_rows": null,
            "grid_column": null,
            "grid_gap": null,
            "grid_row": null,
            "grid_template_areas": null,
            "grid_template_columns": null,
            "grid_template_rows": null,
            "height": null,
            "justify_content": null,
            "justify_items": null,
            "left": null,
            "margin": null,
            "max_height": null,
            "max_width": null,
            "min_height": null,
            "min_width": null,
            "object_fit": null,
            "object_position": null,
            "order": null,
            "overflow": null,
            "overflow_x": null,
            "overflow_y": null,
            "padding": null,
            "right": null,
            "top": null,
            "visibility": null,
            "width": null
          }
        },
        "1eb2848a88a24c46ad8eba13d4251f78": {
          "model_module": "@jupyter-widgets/base",
          "model_name": "LayoutModel",
          "model_module_version": "1.2.0",
          "state": {
            "_model_module": "@jupyter-widgets/base",
            "_model_module_version": "1.2.0",
            "_model_name": "LayoutModel",
            "_view_count": null,
            "_view_module": "@jupyter-widgets/base",
            "_view_module_version": "1.2.0",
            "_view_name": "LayoutView",
            "align_content": null,
            "align_items": null,
            "align_self": null,
            "border": null,
            "bottom": null,
            "display": null,
            "flex": null,
            "flex_flow": null,
            "grid_area": null,
            "grid_auto_columns": null,
            "grid_auto_flow": null,
            "grid_auto_rows": null,
            "grid_column": null,
            "grid_gap": null,
            "grid_row": null,
            "grid_template_areas": null,
            "grid_template_columns": null,
            "grid_template_rows": null,
            "height": null,
            "justify_content": null,
            "justify_items": null,
            "left": null,
            "margin": null,
            "max_height": null,
            "max_width": null,
            "min_height": null,
            "min_width": null,
            "object_fit": null,
            "object_position": null,
            "order": null,
            "overflow": null,
            "overflow_x": null,
            "overflow_y": null,
            "padding": null,
            "right": null,
            "top": null,
            "visibility": null,
            "width": null
          }
        },
        "6d2ba9e994544cf2ab72b8da8229ee95": {
          "model_module": "@jupyter-widgets/controls",
          "model_name": "DescriptionStyleModel",
          "model_module_version": "1.5.0",
          "state": {
            "_model_module": "@jupyter-widgets/controls",
            "_model_module_version": "1.5.0",
            "_model_name": "DescriptionStyleModel",
            "_view_count": null,
            "_view_module": "@jupyter-widgets/base",
            "_view_module_version": "1.2.0",
            "_view_name": "StyleView",
            "description_width": ""
          }
        },
        "e5a1819f05804e609d388088cc048128": {
          "model_module": "@jupyter-widgets/base",
          "model_name": "LayoutModel",
          "model_module_version": "1.2.0",
          "state": {
            "_model_module": "@jupyter-widgets/base",
            "_model_module_version": "1.2.0",
            "_model_name": "LayoutModel",
            "_view_count": null,
            "_view_module": "@jupyter-widgets/base",
            "_view_module_version": "1.2.0",
            "_view_name": "LayoutView",
            "align_content": null,
            "align_items": null,
            "align_self": null,
            "border": null,
            "bottom": null,
            "display": null,
            "flex": null,
            "flex_flow": null,
            "grid_area": null,
            "grid_auto_columns": null,
            "grid_auto_flow": null,
            "grid_auto_rows": null,
            "grid_column": null,
            "grid_gap": null,
            "grid_row": null,
            "grid_template_areas": null,
            "grid_template_columns": null,
            "grid_template_rows": null,
            "height": null,
            "justify_content": null,
            "justify_items": null,
            "left": null,
            "margin": null,
            "max_height": null,
            "max_width": null,
            "min_height": null,
            "min_width": null,
            "object_fit": null,
            "object_position": null,
            "order": null,
            "overflow": null,
            "overflow_x": null,
            "overflow_y": null,
            "padding": null,
            "right": null,
            "top": null,
            "visibility": null,
            "width": null
          }
        },
        "2f2f003545f74304a9c04379f0a72c7b": {
          "model_module": "@jupyter-widgets/controls",
          "model_name": "ProgressStyleModel",
          "model_module_version": "1.5.0",
          "state": {
            "_model_module": "@jupyter-widgets/controls",
            "_model_module_version": "1.5.0",
            "_model_name": "ProgressStyleModel",
            "_view_count": null,
            "_view_module": "@jupyter-widgets/base",
            "_view_module_version": "1.2.0",
            "_view_name": "StyleView",
            "bar_color": null,
            "description_width": ""
          }
        }
      }
    }
  },
  "cells": [
    {
      "cell_type": "markdown",
      "metadata": {
        "id": "view-in-github",
        "colab_type": "text"
      },
      "source": [
        "<a href=\"https://colab.research.google.com/github/girish445ai/Convolutional_Neural_Networks/blob/main/Convolutional_Neural_Networks_PART_B.ipynb\" target=\"_parent\"><img src=\"https://colab.research.google.com/assets/colab-badge.svg\" alt=\"Open In Colab\"/></a>"
      ]
    },
    {
      "cell_type": "markdown",
      "source": [
        "#Part-B: Fine-tuning a pre-trained model"
      ],
      "metadata": {
        "id": "FLX9BOEFSoJy"
      }
    },
    {
      "cell_type": "code",
      "execution_count": null,
      "metadata": {
        "colab": {
          "base_uri": "https://localhost:8080/"
        },
        "id": "0YJNM_gVuSJj",
        "outputId": "8aea5b68-cb51-4dbb-e117-e5d839437f7f"
      },
      "outputs": [
        {
          "output_type": "stream",
          "name": "stdout",
          "text": [
            "Collecting wandb\n",
            "  Downloading wandb-0.12.11-py2.py3-none-any.whl (1.7 MB)\n",
            "\u001b[?25l\r\u001b[K     |▏                               | 10 kB 18.2 MB/s eta 0:00:01\r\u001b[K     |▍                               | 20 kB 13.1 MB/s eta 0:00:01\r\u001b[K     |▋                               | 30 kB 9.1 MB/s eta 0:00:01\r\u001b[K     |▊                               | 40 kB 8.0 MB/s eta 0:00:01\r\u001b[K     |█                               | 51 kB 2.9 MB/s eta 0:00:01\r\u001b[K     |█▏                              | 61 kB 3.4 MB/s eta 0:00:01\r\u001b[K     |█▎                              | 71 kB 3.9 MB/s eta 0:00:01\r\u001b[K     |█▌                              | 81 kB 4.4 MB/s eta 0:00:01\r\u001b[K     |█▊                              | 92 kB 4.9 MB/s eta 0:00:01\r\u001b[K     |█▉                              | 102 kB 5.3 MB/s eta 0:00:01\r\u001b[K     |██                              | 112 kB 5.3 MB/s eta 0:00:01\r\u001b[K     |██▎                             | 122 kB 5.3 MB/s eta 0:00:01\r\u001b[K     |██▍                             | 133 kB 5.3 MB/s eta 0:00:01\r\u001b[K     |██▋                             | 143 kB 5.3 MB/s eta 0:00:01\r\u001b[K     |██▉                             | 153 kB 5.3 MB/s eta 0:00:01\r\u001b[K     |███                             | 163 kB 5.3 MB/s eta 0:00:01\r\u001b[K     |███▏                            | 174 kB 5.3 MB/s eta 0:00:01\r\u001b[K     |███▍                            | 184 kB 5.3 MB/s eta 0:00:01\r\u001b[K     |███▋                            | 194 kB 5.3 MB/s eta 0:00:01\r\u001b[K     |███▊                            | 204 kB 5.3 MB/s eta 0:00:01\r\u001b[K     |████                            | 215 kB 5.3 MB/s eta 0:00:01\r\u001b[K     |████▏                           | 225 kB 5.3 MB/s eta 0:00:01\r\u001b[K     |████▎                           | 235 kB 5.3 MB/s eta 0:00:01\r\u001b[K     |████▌                           | 245 kB 5.3 MB/s eta 0:00:01\r\u001b[K     |████▊                           | 256 kB 5.3 MB/s eta 0:00:01\r\u001b[K     |████▉                           | 266 kB 5.3 MB/s eta 0:00:01\r\u001b[K     |█████                           | 276 kB 5.3 MB/s eta 0:00:01\r\u001b[K     |█████▎                          | 286 kB 5.3 MB/s eta 0:00:01\r\u001b[K     |█████▌                          | 296 kB 5.3 MB/s eta 0:00:01\r\u001b[K     |█████▋                          | 307 kB 5.3 MB/s eta 0:00:01\r\u001b[K     |█████▉                          | 317 kB 5.3 MB/s eta 0:00:01\r\u001b[K     |██████                          | 327 kB 5.3 MB/s eta 0:00:01\r\u001b[K     |██████▏                         | 337 kB 5.3 MB/s eta 0:00:01\r\u001b[K     |██████▍                         | 348 kB 5.3 MB/s eta 0:00:01\r\u001b[K     |██████▋                         | 358 kB 5.3 MB/s eta 0:00:01\r\u001b[K     |██████▊                         | 368 kB 5.3 MB/s eta 0:00:01\r\u001b[K     |███████                         | 378 kB 5.3 MB/s eta 0:00:01\r\u001b[K     |███████▏                        | 389 kB 5.3 MB/s eta 0:00:01\r\u001b[K     |███████▎                        | 399 kB 5.3 MB/s eta 0:00:01\r\u001b[K     |███████▌                        | 409 kB 5.3 MB/s eta 0:00:01\r\u001b[K     |███████▊                        | 419 kB 5.3 MB/s eta 0:00:01\r\u001b[K     |███████▉                        | 430 kB 5.3 MB/s eta 0:00:01\r\u001b[K     |████████                        | 440 kB 5.3 MB/s eta 0:00:01\r\u001b[K     |████████▎                       | 450 kB 5.3 MB/s eta 0:00:01\r\u001b[K     |████████▌                       | 460 kB 5.3 MB/s eta 0:00:01\r\u001b[K     |████████▋                       | 471 kB 5.3 MB/s eta 0:00:01\r\u001b[K     |████████▉                       | 481 kB 5.3 MB/s eta 0:00:01\r\u001b[K     |█████████                       | 491 kB 5.3 MB/s eta 0:00:01\r\u001b[K     |█████████▏                      | 501 kB 5.3 MB/s eta 0:00:01\r\u001b[K     |█████████▍                      | 512 kB 5.3 MB/s eta 0:00:01\r\u001b[K     |█████████▋                      | 522 kB 5.3 MB/s eta 0:00:01\r\u001b[K     |█████████▊                      | 532 kB 5.3 MB/s eta 0:00:01\r\u001b[K     |██████████                      | 542 kB 5.3 MB/s eta 0:00:01\r\u001b[K     |██████████▏                     | 552 kB 5.3 MB/s eta 0:00:01\r\u001b[K     |██████████▎                     | 563 kB 5.3 MB/s eta 0:00:01\r\u001b[K     |██████████▌                     | 573 kB 5.3 MB/s eta 0:00:01\r\u001b[K     |██████████▊                     | 583 kB 5.3 MB/s eta 0:00:01\r\u001b[K     |███████████                     | 593 kB 5.3 MB/s eta 0:00:01\r\u001b[K     |███████████                     | 604 kB 5.3 MB/s eta 0:00:01\r\u001b[K     |███████████▎                    | 614 kB 5.3 MB/s eta 0:00:01\r\u001b[K     |███████████▌                    | 624 kB 5.3 MB/s eta 0:00:01\r\u001b[K     |███████████▋                    | 634 kB 5.3 MB/s eta 0:00:01\r\u001b[K     |███████████▉                    | 645 kB 5.3 MB/s eta 0:00:01\r\u001b[K     |████████████                    | 655 kB 5.3 MB/s eta 0:00:01\r\u001b[K     |████████████▏                   | 665 kB 5.3 MB/s eta 0:00:01\r\u001b[K     |████████████▍                   | 675 kB 5.3 MB/s eta 0:00:01\r\u001b[K     |████████████▋                   | 686 kB 5.3 MB/s eta 0:00:01\r\u001b[K     |████████████▊                   | 696 kB 5.3 MB/s eta 0:00:01\r\u001b[K     |█████████████                   | 706 kB 5.3 MB/s eta 0:00:01\r\u001b[K     |█████████████▏                  | 716 kB 5.3 MB/s eta 0:00:01\r\u001b[K     |█████████████▍                  | 727 kB 5.3 MB/s eta 0:00:01\r\u001b[K     |█████████████▌                  | 737 kB 5.3 MB/s eta 0:00:01\r\u001b[K     |█████████████▊                  | 747 kB 5.3 MB/s eta 0:00:01\r\u001b[K     |██████████████                  | 757 kB 5.3 MB/s eta 0:00:01\r\u001b[K     |██████████████                  | 768 kB 5.3 MB/s eta 0:00:01\r\u001b[K     |██████████████▎                 | 778 kB 5.3 MB/s eta 0:00:01\r\u001b[K     |██████████████▌                 | 788 kB 5.3 MB/s eta 0:00:01\r\u001b[K     |██████████████▋                 | 798 kB 5.3 MB/s eta 0:00:01\r\u001b[K     |██████████████▉                 | 808 kB 5.3 MB/s eta 0:00:01\r\u001b[K     |███████████████                 | 819 kB 5.3 MB/s eta 0:00:01\r\u001b[K     |███████████████▏                | 829 kB 5.3 MB/s eta 0:00:01\r\u001b[K     |███████████████▍                | 839 kB 5.3 MB/s eta 0:00:01\r\u001b[K     |███████████████▋                | 849 kB 5.3 MB/s eta 0:00:01\r\u001b[K     |███████████████▊                | 860 kB 5.3 MB/s eta 0:00:01\r\u001b[K     |████████████████                | 870 kB 5.3 MB/s eta 0:00:01\r\u001b[K     |████████████████▏               | 880 kB 5.3 MB/s eta 0:00:01\r\u001b[K     |████████████████▍               | 890 kB 5.3 MB/s eta 0:00:01\r\u001b[K     |████████████████▌               | 901 kB 5.3 MB/s eta 0:00:01\r\u001b[K     |████████████████▊               | 911 kB 5.3 MB/s eta 0:00:01\r\u001b[K     |█████████████████               | 921 kB 5.3 MB/s eta 0:00:01\r\u001b[K     |█████████████████               | 931 kB 5.3 MB/s eta 0:00:01\r\u001b[K     |█████████████████▎              | 942 kB 5.3 MB/s eta 0:00:01\r\u001b[K     |█████████████████▌              | 952 kB 5.3 MB/s eta 0:00:01\r\u001b[K     |█████████████████▋              | 962 kB 5.3 MB/s eta 0:00:01\r\u001b[K     |█████████████████▉              | 972 kB 5.3 MB/s eta 0:00:01\r\u001b[K     |██████████████████              | 983 kB 5.3 MB/s eta 0:00:01\r\u001b[K     |██████████████████▏             | 993 kB 5.3 MB/s eta 0:00:01\r\u001b[K     |██████████████████▍             | 1.0 MB 5.3 MB/s eta 0:00:01\r\u001b[K     |██████████████████▋             | 1.0 MB 5.3 MB/s eta 0:00:01\r\u001b[K     |██████████████████▉             | 1.0 MB 5.3 MB/s eta 0:00:01\r\u001b[K     |███████████████████             | 1.0 MB 5.3 MB/s eta 0:00:01\r\u001b[K     |███████████████████▏            | 1.0 MB 5.3 MB/s eta 0:00:01\r\u001b[K     |███████████████████▍            | 1.1 MB 5.3 MB/s eta 0:00:01\r\u001b[K     |███████████████████▌            | 1.1 MB 5.3 MB/s eta 0:00:01\r\u001b[K     |███████████████████▊            | 1.1 MB 5.3 MB/s eta 0:00:01\r\u001b[K     |████████████████████            | 1.1 MB 5.3 MB/s eta 0:00:01\r\u001b[K     |████████████████████            | 1.1 MB 5.3 MB/s eta 0:00:01\r\u001b[K     |████████████████████▎           | 1.1 MB 5.3 MB/s eta 0:00:01\r\u001b[K     |████████████████████▌           | 1.1 MB 5.3 MB/s eta 0:00:01\r\u001b[K     |████████████████████▋           | 1.1 MB 5.3 MB/s eta 0:00:01\r\u001b[K     |████████████████████▉           | 1.1 MB 5.3 MB/s eta 0:00:01\r\u001b[K     |█████████████████████           | 1.1 MB 5.3 MB/s eta 0:00:01\r\u001b[K     |█████████████████████▏          | 1.2 MB 5.3 MB/s eta 0:00:01\r\u001b[K     |█████████████████████▍          | 1.2 MB 5.3 MB/s eta 0:00:01\r\u001b[K     |█████████████████████▋          | 1.2 MB 5.3 MB/s eta 0:00:01\r\u001b[K     |█████████████████████▉          | 1.2 MB 5.3 MB/s eta 0:00:01\r\u001b[K     |██████████████████████          | 1.2 MB 5.3 MB/s eta 0:00:01\r\u001b[K     |██████████████████████▏         | 1.2 MB 5.3 MB/s eta 0:00:01\r\u001b[K     |██████████████████████▍         | 1.2 MB 5.3 MB/s eta 0:00:01\r\u001b[K     |██████████████████████▌         | 1.2 MB 5.3 MB/s eta 0:00:01\r\u001b[K     |██████████████████████▊         | 1.2 MB 5.3 MB/s eta 0:00:01\r\u001b[K     |███████████████████████         | 1.2 MB 5.3 MB/s eta 0:00:01\r\u001b[K     |███████████████████████         | 1.3 MB 5.3 MB/s eta 0:00:01\r\u001b[K     |███████████████████████▎        | 1.3 MB 5.3 MB/s eta 0:00:01\r\u001b[K     |███████████████████████▌        | 1.3 MB 5.3 MB/s eta 0:00:01\r\u001b[K     |███████████████████████▋        | 1.3 MB 5.3 MB/s eta 0:00:01\r\u001b[K     |███████████████████████▉        | 1.3 MB 5.3 MB/s eta 0:00:01\r\u001b[K     |████████████████████████        | 1.3 MB 5.3 MB/s eta 0:00:01\r\u001b[K     |████████████████████████▎       | 1.3 MB 5.3 MB/s eta 0:00:01\r\u001b[K     |████████████████████████▍       | 1.3 MB 5.3 MB/s eta 0:00:01\r\u001b[K     |████████████████████████▋       | 1.3 MB 5.3 MB/s eta 0:00:01\r\u001b[K     |████████████████████████▉       | 1.4 MB 5.3 MB/s eta 0:00:01\r\u001b[K     |█████████████████████████       | 1.4 MB 5.3 MB/s eta 0:00:01\r\u001b[K     |█████████████████████████▏      | 1.4 MB 5.3 MB/s eta 0:00:01\r\u001b[K     |█████████████████████████▍      | 1.4 MB 5.3 MB/s eta 0:00:01\r\u001b[K     |█████████████████████████▌      | 1.4 MB 5.3 MB/s eta 0:00:01\r\u001b[K     |█████████████████████████▊      | 1.4 MB 5.3 MB/s eta 0:00:01\r\u001b[K     |██████████████████████████      | 1.4 MB 5.3 MB/s eta 0:00:01\r\u001b[K     |██████████████████████████      | 1.4 MB 5.3 MB/s eta 0:00:01\r\u001b[K     |██████████████████████████▎     | 1.4 MB 5.3 MB/s eta 0:00:01\r\u001b[K     |██████████████████████████▌     | 1.4 MB 5.3 MB/s eta 0:00:01\r\u001b[K     |██████████████████████████▊     | 1.5 MB 5.3 MB/s eta 0:00:01\r\u001b[K     |██████████████████████████▉     | 1.5 MB 5.3 MB/s eta 0:00:01\r\u001b[K     |███████████████████████████     | 1.5 MB 5.3 MB/s eta 0:00:01\r\u001b[K     |███████████████████████████▎    | 1.5 MB 5.3 MB/s eta 0:00:01\r\u001b[K     |███████████████████████████▍    | 1.5 MB 5.3 MB/s eta 0:00:01\r\u001b[K     |███████████████████████████▋    | 1.5 MB 5.3 MB/s eta 0:00:01\r\u001b[K     |███████████████████████████▉    | 1.5 MB 5.3 MB/s eta 0:00:01\r\u001b[K     |████████████████████████████    | 1.5 MB 5.3 MB/s eta 0:00:01\r\u001b[K     |████████████████████████████▏   | 1.5 MB 5.3 MB/s eta 0:00:01\r\u001b[K     |████████████████████████████▍   | 1.5 MB 5.3 MB/s eta 0:00:01\r\u001b[K     |████████████████████████████▌   | 1.6 MB 5.3 MB/s eta 0:00:01\r\u001b[K     |████████████████████████████▊   | 1.6 MB 5.3 MB/s eta 0:00:01\r\u001b[K     |█████████████████████████████   | 1.6 MB 5.3 MB/s eta 0:00:01\r\u001b[K     |█████████████████████████████   | 1.6 MB 5.3 MB/s eta 0:00:01\r\u001b[K     |█████████████████████████████▎  | 1.6 MB 5.3 MB/s eta 0:00:01\r\u001b[K     |█████████████████████████████▌  | 1.6 MB 5.3 MB/s eta 0:00:01\r\u001b[K     |█████████████████████████████▊  | 1.6 MB 5.3 MB/s eta 0:00:01\r\u001b[K     |█████████████████████████████▉  | 1.6 MB 5.3 MB/s eta 0:00:01\r\u001b[K     |██████████████████████████████  | 1.6 MB 5.3 MB/s eta 0:00:01\r\u001b[K     |██████████████████████████████▎ | 1.6 MB 5.3 MB/s eta 0:00:01\r\u001b[K     |██████████████████████████████▍ | 1.7 MB 5.3 MB/s eta 0:00:01\r\u001b[K     |██████████████████████████████▋ | 1.7 MB 5.3 MB/s eta 0:00:01\r\u001b[K     |██████████████████████████████▉ | 1.7 MB 5.3 MB/s eta 0:00:01\r\u001b[K     |███████████████████████████████ | 1.7 MB 5.3 MB/s eta 0:00:01\r\u001b[K     |███████████████████████████████▏| 1.7 MB 5.3 MB/s eta 0:00:01\r\u001b[K     |███████████████████████████████▍| 1.7 MB 5.3 MB/s eta 0:00:01\r\u001b[K     |███████████████████████████████▌| 1.7 MB 5.3 MB/s eta 0:00:01\r\u001b[K     |███████████████████████████████▊| 1.7 MB 5.3 MB/s eta 0:00:01\r\u001b[K     |████████████████████████████████| 1.7 MB 5.3 MB/s eta 0:00:01\r\u001b[K     |████████████████████████████████| 1.7 MB 5.3 MB/s \n",
            "\u001b[?25hCollecting shortuuid>=0.5.0\n",
            "  Downloading shortuuid-1.0.8-py3-none-any.whl (9.5 kB)\n",
            "Requirement already satisfied: psutil>=5.0.0 in /usr/local/lib/python3.7/dist-packages (from wandb) (5.4.8)\n",
            "Requirement already satisfied: Click!=8.0.0,>=7.0 in /usr/local/lib/python3.7/dist-packages (from wandb) (7.1.2)\n",
            "Collecting GitPython>=1.0.0\n",
            "  Downloading GitPython-3.1.27-py3-none-any.whl (181 kB)\n",
            "\u001b[K     |████████████████████████████████| 181 kB 34.2 MB/s \n",
            "\u001b[?25hRequirement already satisfied: protobuf>=3.12.0 in /usr/local/lib/python3.7/dist-packages (from wandb) (3.17.3)\n",
            "Requirement already satisfied: requests<3,>=2.0.0 in /usr/local/lib/python3.7/dist-packages (from wandb) (2.23.0)\n",
            "Collecting pathtools\n",
            "  Downloading pathtools-0.1.2.tar.gz (11 kB)\n",
            "Collecting sentry-sdk>=1.0.0\n",
            "  Downloading sentry_sdk-1.5.8-py2.py3-none-any.whl (144 kB)\n",
            "\u001b[K     |████████████████████████████████| 144 kB 36.8 MB/s \n",
            "\u001b[?25hRequirement already satisfied: python-dateutil>=2.6.1 in /usr/local/lib/python3.7/dist-packages (from wandb) (2.8.2)\n",
            "Collecting docker-pycreds>=0.4.0\n",
            "  Downloading docker_pycreds-0.4.0-py2.py3-none-any.whl (9.0 kB)\n",
            "Collecting yaspin>=1.0.0\n",
            "  Downloading yaspin-2.1.0-py3-none-any.whl (18 kB)\n",
            "Requirement already satisfied: promise<3,>=2.0 in /usr/local/lib/python3.7/dist-packages (from wandb) (2.3)\n",
            "Requirement already satisfied: six>=1.13.0 in /usr/local/lib/python3.7/dist-packages (from wandb) (1.15.0)\n",
            "Requirement already satisfied: PyYAML in /usr/local/lib/python3.7/dist-packages (from wandb) (3.13)\n",
            "Collecting setproctitle\n",
            "  Downloading setproctitle-1.2.2-cp37-cp37m-manylinux1_x86_64.whl (36 kB)\n",
            "Collecting gitdb<5,>=4.0.1\n",
            "  Downloading gitdb-4.0.9-py3-none-any.whl (63 kB)\n",
            "\u001b[K     |████████████████████████████████| 63 kB 839 kB/s \n",
            "\u001b[?25hRequirement already satisfied: typing-extensions>=3.7.4.3 in /usr/local/lib/python3.7/dist-packages (from GitPython>=1.0.0->wandb) (3.10.0.2)\n",
            "Collecting smmap<6,>=3.0.1\n",
            "  Downloading smmap-5.0.0-py3-none-any.whl (24 kB)\n",
            "Requirement already satisfied: idna<3,>=2.5 in /usr/local/lib/python3.7/dist-packages (from requests<3,>=2.0.0->wandb) (2.10)\n",
            "Requirement already satisfied: urllib3!=1.25.0,!=1.25.1,<1.26,>=1.21.1 in /usr/local/lib/python3.7/dist-packages (from requests<3,>=2.0.0->wandb) (1.24.3)\n",
            "Requirement already satisfied: certifi>=2017.4.17 in /usr/local/lib/python3.7/dist-packages (from requests<3,>=2.0.0->wandb) (2021.10.8)\n",
            "Requirement already satisfied: chardet<4,>=3.0.2 in /usr/local/lib/python3.7/dist-packages (from requests<3,>=2.0.0->wandb) (3.0.4)\n",
            "Requirement already satisfied: termcolor<2.0.0,>=1.1.0 in /usr/local/lib/python3.7/dist-packages (from yaspin>=1.0.0->wandb) (1.1.0)\n",
            "Building wheels for collected packages: pathtools\n",
            "  Building wheel for pathtools (setup.py) ... \u001b[?25l\u001b[?25hdone\n",
            "  Created wheel for pathtools: filename=pathtools-0.1.2-py3-none-any.whl size=8806 sha256=cf5bcd162714d2a2d46d2734bc8027eec2931281bde6b871ba6f0575588fc690\n",
            "  Stored in directory: /root/.cache/pip/wheels/3e/31/09/fa59cef12cdcfecc627b3d24273699f390e71828921b2cbba2\n",
            "Successfully built pathtools\n",
            "Installing collected packages: smmap, gitdb, yaspin, shortuuid, setproctitle, sentry-sdk, pathtools, GitPython, docker-pycreds, wandb\n",
            "Successfully installed GitPython-3.1.27 docker-pycreds-0.4.0 gitdb-4.0.9 pathtools-0.1.2 sentry-sdk-1.5.8 setproctitle-1.2.2 shortuuid-1.0.8 smmap-5.0.0 wandb-0.12.11 yaspin-2.1.0\n"
          ]
        }
      ],
      "source": [
        "!pip install wandb"
      ]
    },
    {
      "cell_type": "code",
      "source": [
        "# Necessary packages.\n",
        "import numpy as np\n",
        "import pandas as pd\n",
        "import os\n",
        "import keras\n",
        "import math\n",
        "import tensorflow as tf\n",
        "from tensorflow.keras import layers,models\n",
        "from tensorflow.keras.layers import Conv2D, MaxPooling2D, Dropout, Dense, Flatten, Activation , BatchNormalization\n",
        "from tensorflow.keras.preprocessing.image import ImageDataGenerator\n",
        "import matplotlib.pyplot as plt\n",
        "import cv2\n",
        "import wandb\n",
        "from wandb.keras import WandbCallback"
      ],
      "metadata": {
        "id": "7w0-ptxsvW54"
      },
      "execution_count": null,
      "outputs": []
    },
    {
      "cell_type": "code",
      "source": [
        "from keras.applications.vgg16 import VGG16\n",
        "from keras.applications.inception_v3 import InceptionV3\n",
        "from keras.applications.inception_resnet_v2 import InceptionResNetV2\n",
        "from keras.applications.resnet import ResNet50\n",
        "from keras.applications.xception import Xception"
      ],
      "metadata": {
        "id": "VyjFktw2vf3u"
      },
      "execution_count": null,
      "outputs": []
    },
    {
      "cell_type": "code",
      "source": [
        "!curl -SL https://storage.googleapis.com/wandb_datasets/nature_12K.zip > nature_12K.zip\n",
        "!unzip nature_12K.zip\n",
        "\n",
        "train_datapath='inaturalist_12K/train/'\n",
        "test_datapath='inaturalist_12K/val/'\n",
        "categories=['Amphibia','Animalia','Arachnida','Aves','Fungi','Insecta','Mammalia','Mollusca','Plantae','Reptilia']"
      ],
      "metadata": {
        "id": "ScncID_apex4"
      },
      "execution_count": null,
      "outputs": []
    },
    {
      "cell_type": "code",
      "source": [
        "import wandb\n",
        "sweep_config = {\n",
        "  'name': 'sweep1',  \n",
        "  'method': 'grid',\n",
        "  'metric': {\n",
        "      'name': 'accuracy',\n",
        "  },   \n",
        "  'parameters': {\n",
        "        \n",
        "        \n",
        "        'fc_size':{\n",
        "            'values':[64]\n",
        "        },\n",
        "        'batch_norm':{\n",
        "            'values':['yes']\n",
        "        },\n",
        "        'augmentation':{\n",
        "            'values':['yes']   \n",
        "        },\n",
        "        'batch_size' :{\n",
        "            'values':[32]\n",
        "        },\n",
        "        'droprate':{\n",
        "            'values':[0.2]\n",
        "        },\n",
        "        'k_freeze_percent':{\n",
        "            'values':[1]\n",
        "        },\n",
        "        'pre_train':{\n",
        "            'values':['inceptionresnetv2','Xception','inceptionv3','resnet50']\n",
        "        }\n",
        "\n",
        "           \n",
        "    }\n",
        "\n",
        "}\n"
      ],
      "metadata": {
        "id": "Iqj_AQ_Xe4vT"
      },
      "execution_count": null,
      "outputs": []
    },
    {
      "cell_type": "code",
      "source": [
        "def PreTrain(config=sweep_config):\n",
        "\n",
        "  #wandb init and log .\n",
        "\n",
        "  wandb.init(config=config)\n",
        "  config= wandb.init().config\n",
        "  batch_norm=config['batch_norm']\n",
        "  droprate=config['droprate']\n",
        "  batch_size=config['batch_size']\n",
        "  augmentation=config['augmentation']\n",
        "  fc_size=config['fc_size']\n",
        "  pre_train = config['pre_train']\n",
        "  k_freeze_percent=config['k_freeze_percent']\n",
        "\n",
        "  \n",
        "  wandb.run.name = 'model_{}_fc_size_{}_dropout_{}_batchNorm_{}_dataAug_{}_k_freeze_percent_{}_batch_size_{}_'.format(pre_train, fc_size,droprate,batch_norm, augmentation,k_freeze_percent ,batch_size)\n",
        "        \n",
        "\n",
        "  if pre_train == 'inceptionv3':\n",
        "    img_height = 299\n",
        "    img_width = 299\n",
        "    base_model = InceptionV3(include_top=False, weights='imagenet',input_shape=(img_height, img_width,3))\n",
        "    # 'include_top = False ' leaves out the last layer as Image net has 1000 classes ,in our inaturalist dataset we have only 10 classes, we will add a dense layer of 10 classes .\n",
        "    k = math.ceil(k_freeze_percent*311)  \n",
        "    #There are 311 layers in inceptionv3 model . If 'k' is 70% then we want to Freeze the 70% of first layers in feature extraction ,use the weights of inceptionv3 model \n",
        "    # and train the rest of the 30% layers which are towards the end and update weights.  \n",
        "                                                 \n",
        "\n",
        "  if pre_train == 'inceptionresnetv2':\n",
        "    img_height = 299\n",
        "    img_width = 299\n",
        "    base_model = InceptionResNetV2(include_top=False, weights='imagenet',input_shape=(img_height, img_width,3))\n",
        "    k = math.ceil(k_freeze_percent*780)\n",
        "\n",
        "  if pre_train == 'resnet50':\n",
        "    img_height = 224\n",
        "    img_width = 224\n",
        "    base_model = ResNet50(include_top=False, weights='imagenet',input_shape=(img_height, img_width,3))\n",
        "    k = math.ceil(k_freeze_percent*175)\n",
        "\n",
        "  if pre_train == 'Xception':\n",
        "    img_height = 299\n",
        "    img_width = 299\n",
        "    base_model = Xception(include_top=False, weights='imagenet',input_shape=(img_height, img_width,3))\n",
        "    k = math.ceil(k_freeze_percent*132)  \n",
        "\n",
        "  i = 0\n",
        "  for layers in base_model.layers:\n",
        "    layers.trainable = False\n",
        "    i+=1\n",
        "    if(i==k):\n",
        "            break\n",
        "\n",
        "  model = keras.Sequential([\n",
        "      tf.keras.Input(shape=(img_height, img_width,3,)),\n",
        "      base_model,\n",
        "      Flatten(),\n",
        "      Dense(fc_size,activation='relu'),\n",
        "      \n",
        "  ])\n",
        "  if batch_norm == 'yes':\n",
        "    model.add(BatchNormalization())\n",
        "  model.add(Dropout(droprate))\n",
        "  model.add(Dense(fc_size, activation='relu'))\n",
        "  model.add(Dropout(droprate))\n",
        "  model.add(Dense(10 ,activation='softmax'))\n",
        "  \n",
        "\n",
        "  #data generators for train(with and without validation) and validation\n",
        "  augment= ImageDataGenerator(\n",
        "    rotation_range=30,\n",
        "    width_shift_range=0.2,\n",
        "    height_shift_range=0.2,\n",
        "    zoom_range=0.2,\n",
        "    horizontal_flip=True,\n",
        "    rescale=1.0 / 255,\n",
        "    validation_split=0.1,\n",
        "    dtype=tf.float32,\n",
        "  )\n",
        "\n",
        "  datagen = ImageDataGenerator(\n",
        "    rescale=1.0 / 255,\n",
        "    validation_split=0.1,\n",
        "    dtype=tf.float32,\n",
        "  )\n",
        "\n",
        "  train_set = datagen.flow_from_directory(\n",
        "    train_datapath,\n",
        "    target_size=(img_height, img_width),\n",
        "    batch_size=batch_size,\n",
        "    color_mode='rgb',\n",
        "    class_mode='sparse',\n",
        "    shuffle=True,\n",
        "    subset='training',\n",
        "    seed=123,\n",
        "  )\n",
        "\n",
        "  aug_set = augment.flow_from_directory(\n",
        "      train_datapath,\n",
        "      target_size=(img_height, img_width),\n",
        "      batch_size=batch_size,\n",
        "      color_mode='rgb',\n",
        "      class_mode='sparse',\n",
        "      shuffle=True,\n",
        "      subset='training',\n",
        "      seed=123,\n",
        "  )\n",
        "\n",
        "  val_set = datagen.flow_from_directory(\n",
        "      train_datapath,\n",
        "      target_size=(img_height, img_width),\n",
        "      color_mode='rgb',\n",
        "      class_mode='sparse',\n",
        "      batch_size=batch_size,\n",
        "      shuffle=True,\n",
        "      subset='validation',\n",
        "      seed=123,\n",
        "  )\n",
        "\n",
        "  model.compile(\n",
        "    optimizer=tf.keras.optimizers.Adam(),\n",
        "    loss=[tf.keras.losses.SparseCategoricalCrossentropy()],\n",
        "    metrics=['accuracy'],\n",
        "  )\n",
        "\n",
        "  if augmentation =='no' :\n",
        "    hist=model.fit(train_set,epochs=10,validation_data=val_set,callbacks = [tf.keras.callbacks.EarlyStopping(monitor = 'val_accuracy', patience = 5), wandb.keras.WandbCallback()])\n",
        "    \n",
        "  \n",
        "  else:\n",
        "    hist=model.fit(aug_set,epochs=10,validation_data=val_set,callbacks = [tf.keras.callbacks.EarlyStopping(monitor = 'val_accuracy', patience = 5), wandb.keras.WandbCallback()])\n",
        "\n",
        "  val_acc=max(hist.history['val_accuracy'])\n",
        "  params={'batchnorm':batch_norm,'augmentation':augmentation,'dropout':droprate,'pre_trained_model':pre_train,'val_acc':val_acc}\n",
        "  wandb.log(params)"
      ],
      "metadata": {
        "id": "Hp6IjHz4Q46v"
      },
      "execution_count": null,
      "outputs": []
    },
    {
      "cell_type": "code",
      "source": [
        "sweep_id=wandb.sweep(sweep_config,project=\"Assignment2_partb\", entity=\"girishrongali\")\n",
        "wandb.agent(sweep_id, PreTrain)"
      ],
      "metadata": {
        "colab": {
          "base_uri": "https://localhost:8080/",
          "height": 1000,
          "referenced_widgets": [
            "556090f6ca5947caaf249dd27f7355ce",
            "9a39caab73684d1e8302c7cec2848ac9",
            "220b3aeec9b64577a2c90b3e6b3a4a67",
            "30876da09da64a0e8e825862154d14a6",
            "eec8fcd163234674b083093a059af20b",
            "92e9ad33fbad4ad18cc0cde0bdff6caa",
            "58641dc270964456bd0856bf6f032d1c",
            "9ea7feaafcb44057a25b6522b434efaf",
            "17db033f96bf4172a44668f1d615e743",
            "3c416498302b43e39eb43ca26c5cb98e",
            "2b5e9186e39442f4b9f930be1671e191",
            "ae5adb2cdc664673a909fe0939b6275b",
            "9390261552c64e4181d2335d433d555e",
            "a571a37a66cc4038b5d1bd94ee057d22",
            "f10a234d7ff144d0b69c7f6dd7ec407a",
            "1cea45d1d44d4600baed0c6deb64ee7f",
            "65285d50ac4f4bc48e810f764c6bd7a9",
            "a2cab4c613304c819c9944386c4b2079",
            "58c432d2fe384080a37b79304bcc6113",
            "14a1cec974f947eca5f49916f3a3689a",
            "fbcc81f297a848bbaaa47e3dd5a1fff7",
            "095f1fdb534444ea97c3ed88edf44371",
            "fc2eaf5d109a4a71aafacc77acc3edf1",
            "138b33d6f4174536b66d0e98c3e719c2",
            "89aff19eb2044545bc1e8f66aa61bad4",
            "47e80e305f68460d8484fc7d93595ba6",
            "725630829fe041eb8f09325734b9047a",
            "8c338330f16242528da27324ff003bb5",
            "d6257a26a1f1484bacb7742f9a9e2543",
            "581ffc5e4a7c4c89a525b01357b36576",
            "8ba9da8c261b44df998d4ecf5205c9ea",
            "76b3dcf644da4915925cccb8fa458a61",
            "4918bc9749824e9590ab029b80eec770",
            "e95a9fecb3124fb9a4972d6a46b81d4c",
            "f87fa96592ad464aa69ae1ce909d8d18",
            "b9367c03441a4d6d8e5bf41e575118ec",
            "1eb2848a88a24c46ad8eba13d4251f78",
            "6d2ba9e994544cf2ab72b8da8229ee95",
            "e5a1819f05804e609d388088cc048128",
            "2f2f003545f74304a9c04379f0a72c7b"
          ]
        },
        "id": "TWIlShSsrj0O",
        "outputId": "25c5dab9-e1cc-4d0d-aae5-7ffa6a62dd99"
      },
      "execution_count": null,
      "outputs": [
        {
          "output_type": "display_data",
          "data": {
            "text/plain": [
              "<IPython.core.display.Javascript object>"
            ],
            "application/javascript": [
              "\n",
              "        window._wandbApiKey = new Promise((resolve, reject) => {\n",
              "            function loadScript(url) {\n",
              "            return new Promise(function(resolve, reject) {\n",
              "                let newScript = document.createElement(\"script\");\n",
              "                newScript.onerror = reject;\n",
              "                newScript.onload = resolve;\n",
              "                document.body.appendChild(newScript);\n",
              "                newScript.src = url;\n",
              "            });\n",
              "            }\n",
              "            loadScript(\"https://cdn.jsdelivr.net/npm/postmate/build/postmate.min.js\").then(() => {\n",
              "            const iframe = document.createElement('iframe')\n",
              "            iframe.style.cssText = \"width:0;height:0;border:none\"\n",
              "            document.body.appendChild(iframe)\n",
              "            const handshake = new Postmate({\n",
              "                container: iframe,\n",
              "                url: 'https://wandb.ai/authorize'\n",
              "            });\n",
              "            const timeout = setTimeout(() => reject(\"Couldn't auto authenticate\"), 5000)\n",
              "            handshake.then(function(child) {\n",
              "                child.on('authorize', data => {\n",
              "                    clearTimeout(timeout)\n",
              "                    resolve(data)\n",
              "                });\n",
              "            });\n",
              "            })\n",
              "        });\n",
              "    "
            ]
          },
          "metadata": {}
        },
        {
          "output_type": "stream",
          "name": "stderr",
          "text": [
            "\u001b[34m\u001b[1mwandb\u001b[0m: Appending key for api.wandb.ai to your netrc file: /root/.netrc\n"
          ]
        },
        {
          "output_type": "stream",
          "name": "stdout",
          "text": [
            "Create sweep with ID: slzk8zps\n",
            "Sweep URL: https://wandb.ai/girishrongali/Assignment2_partb/sweeps/slzk8zps\n"
          ]
        },
        {
          "output_type": "stream",
          "name": "stderr",
          "text": [
            "\u001b[34m\u001b[1mwandb\u001b[0m: Agent Starting Run: egp0yh44 with config:\n",
            "\u001b[34m\u001b[1mwandb\u001b[0m: \taugmentation: yes\n",
            "\u001b[34m\u001b[1mwandb\u001b[0m: \tbatch_norm: yes\n",
            "\u001b[34m\u001b[1mwandb\u001b[0m: \tbatch_size: 32\n",
            "\u001b[34m\u001b[1mwandb\u001b[0m: \tdroprate: 0.4\n",
            "\u001b[34m\u001b[1mwandb\u001b[0m: \tfc_size: 128\n",
            "\u001b[34m\u001b[1mwandb\u001b[0m: \tk_freeze_percent: 0.8\n",
            "\u001b[34m\u001b[1mwandb\u001b[0m: \tpre_train: inceptionresnetv2\n",
            "\u001b[34m\u001b[1mwandb\u001b[0m: Currently logged in as: \u001b[33mgirishrongali\u001b[0m (use `wandb login --relogin` to force relogin)\n"
          ]
        },
        {
          "output_type": "display_data",
          "data": {
            "text/plain": [
              "<IPython.core.display.HTML object>"
            ],
            "text/html": [
              "Tracking run with wandb version 0.12.11"
            ]
          },
          "metadata": {}
        },
        {
          "output_type": "display_data",
          "data": {
            "text/plain": [
              "<IPython.core.display.HTML object>"
            ],
            "text/html": [
              "Run data is saved locally in <code>/content/wandb/run-20220402_101352-egp0yh44</code>"
            ]
          },
          "metadata": {}
        },
        {
          "output_type": "display_data",
          "data": {
            "text/plain": [
              "<IPython.core.display.HTML object>"
            ],
            "text/html": [
              "Syncing run <strong><a href=\"https://wandb.ai/girishrongali/Assignment2_partb/runs/egp0yh44\" target=\"_blank\">valiant-sweep-1</a></strong> to <a href=\"https://wandb.ai/girishrongali/Assignment2_partb\" target=\"_blank\">Weights & Biases</a> (<a href=\"https://wandb.me/run\" target=\"_blank\">docs</a>)<br/>Sweep page:  <a href=\"https://wandb.ai/girishrongali/Assignment2_partb/sweeps/slzk8zps\" target=\"_blank\">https://wandb.ai/girishrongali/Assignment2_partb/sweeps/slzk8zps</a>"
            ]
          },
          "metadata": {}
        },
        {
          "output_type": "display_data",
          "data": {
            "text/plain": [
              "<IPython.core.display.HTML object>"
            ],
            "text/html": [
              "Finishing last run (ID:egp0yh44) before initializing another..."
            ]
          },
          "metadata": {}
        },
        {
          "output_type": "stream",
          "name": "stdout",
          "text": [
            "\n"
          ]
        },
        {
          "output_type": "display_data",
          "data": {
            "text/plain": [
              "<IPython.core.display.HTML object>"
            ],
            "text/html": [
              "Waiting for W&B process to finish... <strong style=\"color:green\">(success).</strong>"
            ]
          },
          "metadata": {}
        },
        {
          "output_type": "display_data",
          "data": {
            "text/plain": [
              "VBox(children=(Label(value='0.001 MB of 0.001 MB uploaded (0.000 MB deduped)\\r'), FloatProgress(value=1.0, max…"
            ],
            "application/vnd.jupyter.widget-view+json": {
              "version_major": 2,
              "version_minor": 0,
              "model_id": "556090f6ca5947caaf249dd27f7355ce"
            }
          },
          "metadata": {}
        },
        {
          "output_type": "display_data",
          "data": {
            "text/plain": [
              "<IPython.core.display.HTML object>"
            ],
            "text/html": [
              "Synced <strong style=\"color:#cdcd00\">valiant-sweep-1</strong>: <a href=\"https://wandb.ai/girishrongali/Assignment2_partb/runs/egp0yh44\" target=\"_blank\">https://wandb.ai/girishrongali/Assignment2_partb/runs/egp0yh44</a><br/>Synced 4 W&B file(s), 0 media file(s), 0 artifact file(s) and 0 other file(s)"
            ]
          },
          "metadata": {}
        },
        {
          "output_type": "display_data",
          "data": {
            "text/plain": [
              "<IPython.core.display.HTML object>"
            ],
            "text/html": [
              "Find logs at: <code>./wandb/run-20220402_101352-egp0yh44/logs</code>"
            ]
          },
          "metadata": {}
        },
        {
          "output_type": "display_data",
          "data": {
            "text/plain": [
              "<IPython.core.display.HTML object>"
            ],
            "text/html": [
              "Successfully finished last run (ID:egp0yh44). Initializing new run:<br/>"
            ]
          },
          "metadata": {}
        },
        {
          "output_type": "display_data",
          "data": {
            "text/plain": [
              "<IPython.core.display.HTML object>"
            ],
            "text/html": [
              "Tracking run with wandb version 0.12.11"
            ]
          },
          "metadata": {}
        },
        {
          "output_type": "display_data",
          "data": {
            "text/plain": [
              "<IPython.core.display.HTML object>"
            ],
            "text/html": [
              "Run data is saved locally in <code>/content/wandb/run-20220402_101401-egp0yh44</code>"
            ]
          },
          "metadata": {}
        },
        {
          "output_type": "display_data",
          "data": {
            "text/plain": [
              "<IPython.core.display.HTML object>"
            ],
            "text/html": [
              "Syncing run <strong><a href=\"https://wandb.ai/girishrongali/Assignment2_partb/runs/egp0yh44\" target=\"_blank\">valiant-sweep-1</a></strong> to <a href=\"https://wandb.ai/girishrongali/Assignment2_partb\" target=\"_blank\">Weights & Biases</a> (<a href=\"https://wandb.me/run\" target=\"_blank\">docs</a>)<br/>Sweep page:  <a href=\"https://wandb.ai/girishrongali/Assignment2_partb/sweeps/slzk8zps\" target=\"_blank\">https://wandb.ai/girishrongali/Assignment2_partb/sweeps/slzk8zps</a>"
            ]
          },
          "metadata": {}
        },
        {
          "output_type": "stream",
          "name": "stdout",
          "text": [
            "Downloading data from https://storage.googleapis.com/tensorflow/keras-applications/inception_resnet_v2/inception_resnet_v2_weights_tf_dim_ordering_tf_kernels_notop.h5\n",
            "219062272/219055592 [==============================] - 2s 0us/step\n",
            "219070464/219055592 [==============================] - 2s 0us/step\n",
            "Found 9000 images belonging to 10 classes.\n",
            "Found 9000 images belonging to 10 classes.\n",
            "Found 999 images belonging to 10 classes.\n",
            "Epoch 1/10\n",
            "282/282 [==============================] - 435s 1s/step - loss: 1.3067 - accuracy: 0.5762 - val_loss: 1.2340 - val_accuracy: 0.7017 - _timestamp: 1648894901.0000 - _runtime: 456.0000\n",
            "Epoch 2/10\n",
            "282/282 [==============================] - 397s 1s/step - loss: 0.8552 - accuracy: 0.7434 - val_loss: 0.7139 - val_accuracy: 0.7738 - _timestamp: 1648895298.0000 - _runtime: 853.0000\n",
            "Epoch 3/10\n",
            "282/282 [==============================] - 393s 1s/step - loss: 0.7266 - accuracy: 0.7833 - val_loss: 0.6280 - val_accuracy: 0.8068 - _timestamp: 1648895691.0000 - _runtime: 1246.0000\n",
            "Epoch 4/10\n",
            "282/282 [==============================] - 386s 1s/step - loss: 0.6312 - accuracy: 0.8096 - val_loss: 0.6404 - val_accuracy: 0.8188 - _timestamp: 1648896080.0000 - _runtime: 1635.0000\n",
            "Epoch 5/10\n",
            "282/282 [==============================] - 390s 1s/step - loss: 0.5925 - accuracy: 0.8243 - val_loss: 0.5928 - val_accuracy: 0.8218 - _timestamp: 1648896465.0000 - _runtime: 2020.0000\n",
            "Epoch 6/10\n",
            "282/282 [==============================] - 386s 1s/step - loss: 0.5295 - accuracy: 0.8397 - val_loss: 0.6197 - val_accuracy: 0.8148 - _timestamp: 1648896908.0000 - _runtime: 2463.0000\n",
            "Epoch 7/10\n",
            "282/282 [==============================] - 409s 1s/step - loss: 0.4798 - accuracy: 0.8557 - val_loss: 0.6991 - val_accuracy: 0.7988 - _timestamp: 1648897317.0000 - _runtime: 2872.0000\n",
            "Epoch 8/10\n",
            "282/282 [==============================] - 413s 1s/step - loss: 0.4418 - accuracy: 0.8613 - val_loss: 0.6634 - val_accuracy: 0.7968 - _timestamp: 1648897730.0000 - _runtime: 3285.0000\n",
            "Epoch 9/10\n",
            "282/282 [==============================] - 411s 1s/step - loss: 0.4049 - accuracy: 0.8750 - val_loss: 0.5986 - val_accuracy: 0.8338 - _timestamp: 1648898141.0000 - _runtime: 3696.0000\n",
            "Epoch 10/10\n",
            "282/282 [==============================] - 411s 1s/step - loss: 0.3664 - accuracy: 0.8864 - val_loss: 0.6847 - val_accuracy: 0.8208 - _timestamp: 1648898552.0000 - _runtime: 4107.0000\n",
            "\n"
          ]
        },
        {
          "output_type": "display_data",
          "data": {
            "text/plain": [
              "<IPython.core.display.HTML object>"
            ],
            "text/html": [
              "Waiting for W&B process to finish... <strong style=\"color:green\">(success).</strong>"
            ]
          },
          "metadata": {}
        },
        {
          "output_type": "display_data",
          "data": {
            "text/plain": [
              "VBox(children=(Label(value='528.525 MB of 528.525 MB uploaded (0.000 MB deduped)\\r'), FloatProgress(value=1.0,…"
            ],
            "application/vnd.jupyter.widget-view+json": {
              "version_major": 2,
              "version_minor": 0,
              "model_id": "17db033f96bf4172a44668f1d615e743"
            }
          },
          "metadata": {}
        },
        {
          "output_type": "display_data",
          "data": {
            "text/plain": [
              "<IPython.core.display.HTML object>"
            ],
            "text/html": [
              "<style>\n",
              "    table.wandb td:nth-child(1) { padding: 0 10px; text-align: right }\n",
              "    .wandb-row { display: flex; flex-direction: row; flex-wrap: wrap; width: 100% }\n",
              "    .wandb-col { display: flex; flex-direction: column; flex-basis: 100%; flex: 1; padding: 10px; }\n",
              "    </style>\n",
              "<div class=\"wandb-row\"><div class=\"wandb-col\"><h3>Run history:</h3><br/><table class=\"wandb\"><tr><td>accuracy</td><td>▁▅▆▆▇▇▇▇██</td></tr><tr><td>dropout</td><td>▁</td></tr><tr><td>epoch</td><td>▁▂▃▃▄▅▆▆▇█</td></tr><tr><td>loss</td><td>█▅▄▃▃▂▂▂▁▁</td></tr><tr><td>val_acc</td><td>▁</td></tr><tr><td>val_accuracy</td><td>▁▅▇▇▇▇▆▆█▇</td></tr><tr><td>val_loss</td><td>█▂▁▂▁▁▂▂▁▂</td></tr></table><br/></div><div class=\"wandb-col\"><h3>Run summary:</h3><br/><table class=\"wandb\"><tr><td>accuracy</td><td>0.88644</td></tr><tr><td>augmentation</td><td>yes</td></tr><tr><td>batchnorm</td><td>yes</td></tr><tr><td>best_epoch</td><td>4</td></tr><tr><td>best_val_loss</td><td>0.59282</td></tr><tr><td>dropout</td><td>0.4</td></tr><tr><td>epoch</td><td>9</td></tr><tr><td>loss</td><td>0.36643</td></tr><tr><td>pre_trained_model</td><td>inceptionresnetv2</td></tr><tr><td>val_acc</td><td>0.83383</td></tr><tr><td>val_accuracy</td><td>0.82082</td></tr><tr><td>val_loss</td><td>0.68467</td></tr></table><br/></div></div>"
            ]
          },
          "metadata": {}
        },
        {
          "output_type": "display_data",
          "data": {
            "text/plain": [
              "<IPython.core.display.HTML object>"
            ],
            "text/html": [
              "Synced <strong style=\"color:#cdcd00\">valiant-sweep-1</strong>: <a href=\"https://wandb.ai/girishrongali/Assignment2_partb/runs/egp0yh44\" target=\"_blank\">https://wandb.ai/girishrongali/Assignment2_partb/runs/egp0yh44</a><br/>Synced 5 W&B file(s), 1 media file(s), 0 artifact file(s) and 1 other file(s)"
            ]
          },
          "metadata": {}
        },
        {
          "output_type": "display_data",
          "data": {
            "text/plain": [
              "<IPython.core.display.HTML object>"
            ],
            "text/html": [
              "Find logs at: <code>./wandb/run-20220402_101401-egp0yh44/logs</code>"
            ]
          },
          "metadata": {}
        },
        {
          "output_type": "stream",
          "name": "stderr",
          "text": [
            "\u001b[34m\u001b[1mwandb\u001b[0m: Agent Starting Run: 9pgmy4v6 with config:\n",
            "\u001b[34m\u001b[1mwandb\u001b[0m: \taugmentation: yes\n",
            "\u001b[34m\u001b[1mwandb\u001b[0m: \tbatch_norm: yes\n",
            "\u001b[34m\u001b[1mwandb\u001b[0m: \tbatch_size: 32\n",
            "\u001b[34m\u001b[1mwandb\u001b[0m: \tdroprate: 0.4\n",
            "\u001b[34m\u001b[1mwandb\u001b[0m: \tfc_size: 128\n",
            "\u001b[34m\u001b[1mwandb\u001b[0m: \tk_freeze_percent: 0.8\n",
            "\u001b[34m\u001b[1mwandb\u001b[0m: \tpre_train: Xception\n"
          ]
        },
        {
          "output_type": "display_data",
          "data": {
            "text/plain": [
              "<IPython.core.display.HTML object>"
            ],
            "text/html": [
              "Tracking run with wandb version 0.12.11"
            ]
          },
          "metadata": {}
        },
        {
          "output_type": "display_data",
          "data": {
            "text/plain": [
              "<IPython.core.display.HTML object>"
            ],
            "text/html": [
              "Run data is saved locally in <code>/content/wandb/run-20220402_112253-9pgmy4v6</code>"
            ]
          },
          "metadata": {}
        },
        {
          "output_type": "display_data",
          "data": {
            "text/plain": [
              "<IPython.core.display.HTML object>"
            ],
            "text/html": [
              "Syncing run <strong><a href=\"https://wandb.ai/girishrongali/Assignment2_partb/runs/9pgmy4v6\" target=\"_blank\">crimson-sweep-2</a></strong> to <a href=\"https://wandb.ai/girishrongali/Assignment2_partb\" target=\"_blank\">Weights & Biases</a> (<a href=\"https://wandb.me/run\" target=\"_blank\">docs</a>)<br/>Sweep page:  <a href=\"https://wandb.ai/girishrongali/Assignment2_partb/sweeps/slzk8zps\" target=\"_blank\">https://wandb.ai/girishrongali/Assignment2_partb/sweeps/slzk8zps</a>"
            ]
          },
          "metadata": {}
        },
        {
          "output_type": "display_data",
          "data": {
            "text/plain": [
              "<IPython.core.display.HTML object>"
            ],
            "text/html": [
              "Finishing last run (ID:9pgmy4v6) before initializing another..."
            ]
          },
          "metadata": {}
        },
        {
          "output_type": "stream",
          "name": "stdout",
          "text": [
            "\n"
          ]
        },
        {
          "output_type": "display_data",
          "data": {
            "text/plain": [
              "<IPython.core.display.HTML object>"
            ],
            "text/html": [
              "Waiting for W&B process to finish... <strong style=\"color:green\">(success).</strong>"
            ]
          },
          "metadata": {}
        },
        {
          "output_type": "display_data",
          "data": {
            "text/plain": [
              "VBox(children=(Label(value='0.000 MB of 0.001 MB uploaded (0.000 MB deduped)\\r'), FloatProgress(value=0.0, max…"
            ],
            "application/vnd.jupyter.widget-view+json": {
              "version_major": 2,
              "version_minor": 0,
              "model_id": "65285d50ac4f4bc48e810f764c6bd7a9"
            }
          },
          "metadata": {}
        },
        {
          "output_type": "display_data",
          "data": {
            "text/plain": [
              "<IPython.core.display.HTML object>"
            ],
            "text/html": [
              "Synced <strong style=\"color:#cdcd00\">crimson-sweep-2</strong>: <a href=\"https://wandb.ai/girishrongali/Assignment2_partb/runs/9pgmy4v6\" target=\"_blank\">https://wandb.ai/girishrongali/Assignment2_partb/runs/9pgmy4v6</a><br/>Synced 4 W&B file(s), 0 media file(s), 0 artifact file(s) and 0 other file(s)"
            ]
          },
          "metadata": {}
        },
        {
          "output_type": "display_data",
          "data": {
            "text/plain": [
              "<IPython.core.display.HTML object>"
            ],
            "text/html": [
              "Find logs at: <code>./wandb/run-20220402_112253-9pgmy4v6/logs</code>"
            ]
          },
          "metadata": {}
        },
        {
          "output_type": "display_data",
          "data": {
            "text/plain": [
              "<IPython.core.display.HTML object>"
            ],
            "text/html": [
              "Successfully finished last run (ID:9pgmy4v6). Initializing new run:<br/>"
            ]
          },
          "metadata": {}
        },
        {
          "output_type": "display_data",
          "data": {
            "text/plain": [
              "<IPython.core.display.HTML object>"
            ],
            "text/html": [
              "Tracking run with wandb version 0.12.11"
            ]
          },
          "metadata": {}
        },
        {
          "output_type": "display_data",
          "data": {
            "text/plain": [
              "<IPython.core.display.HTML object>"
            ],
            "text/html": [
              "Run data is saved locally in <code>/content/wandb/run-20220402_112303-9pgmy4v6</code>"
            ]
          },
          "metadata": {}
        },
        {
          "output_type": "display_data",
          "data": {
            "text/plain": [
              "<IPython.core.display.HTML object>"
            ],
            "text/html": [
              "Syncing run <strong><a href=\"https://wandb.ai/girishrongali/Assignment2_partb/runs/9pgmy4v6\" target=\"_blank\">crimson-sweep-2</a></strong> to <a href=\"https://wandb.ai/girishrongali/Assignment2_partb\" target=\"_blank\">Weights & Biases</a> (<a href=\"https://wandb.me/run\" target=\"_blank\">docs</a>)<br/>Sweep page:  <a href=\"https://wandb.ai/girishrongali/Assignment2_partb/sweeps/slzk8zps\" target=\"_blank\">https://wandb.ai/girishrongali/Assignment2_partb/sweeps/slzk8zps</a>"
            ]
          },
          "metadata": {}
        },
        {
          "output_type": "stream",
          "name": "stdout",
          "text": [
            "Downloading data from https://storage.googleapis.com/tensorflow/keras-applications/xception/xception_weights_tf_dim_ordering_tf_kernels_notop.h5\n",
            "83689472/83683744 [==============================] - 1s 0us/step\n",
            "83697664/83683744 [==============================] - 1s 0us/step\n",
            "Found 9000 images belonging to 10 classes.\n",
            "Found 9000 images belonging to 10 classes.\n",
            "Found 999 images belonging to 10 classes.\n",
            "Epoch 1/10\n",
            "282/282 [==============================] - 397s 1s/step - loss: 1.2381 - accuracy: 0.6169 - val_loss: 1.2287 - val_accuracy: 0.6937 - _timestamp: 1648898994.0000 - _runtime: 407.0000\n",
            "Epoch 2/10\n",
            "282/282 [==============================] - 388s 1s/step - loss: 0.8386 - accuracy: 0.7494 - val_loss: 0.9433 - val_accuracy: 0.7397 - _timestamp: 1648899383.0000 - _runtime: 796.0000\n",
            "Epoch 3/10\n",
            "282/282 [==============================] - 388s 1s/step - loss: 0.7137 - accuracy: 0.7828 - val_loss: 0.7433 - val_accuracy: 0.7808 - _timestamp: 1648899769.0000 - _runtime: 1182.0000\n",
            "Epoch 4/10\n",
            "282/282 [==============================] - 387s 1s/step - loss: 0.6277 - accuracy: 0.8077 - val_loss: 0.8986 - val_accuracy: 0.7548 - _timestamp: 1648900159.0000 - _runtime: 1572.0000\n",
            "Epoch 5/10\n",
            "282/282 [==============================] - 385s 1s/step - loss: 0.5633 - accuracy: 0.8346 - val_loss: 0.6958 - val_accuracy: 0.8018 - _timestamp: 1648900543.0000 - _runtime: 1956.0000\n",
            "Epoch 6/10\n",
            "282/282 [==============================] - 385s 1s/step - loss: 0.4884 - accuracy: 0.8554 - val_loss: 0.6948 - val_accuracy: 0.7978 - _timestamp: 1648900985.0000 - _runtime: 2398.0000\n",
            "Epoch 7/10\n",
            "282/282 [==============================] - 382s 1s/step - loss: 0.4454 - accuracy: 0.8662 - val_loss: 0.7517 - val_accuracy: 0.7938 - _timestamp: 1648901368.0000 - _runtime: 2781.0000\n",
            "Epoch 8/10\n",
            "282/282 [==============================] - 380s 1s/step - loss: 0.3814 - accuracy: 0.8849 - val_loss: 0.7133 - val_accuracy: 0.8118 - _timestamp: 1648901748.0000 - _runtime: 3161.0000\n",
            "Epoch 9/10\n",
            "282/282 [==============================] - 383s 1s/step - loss: 0.3668 - accuracy: 0.8918 - val_loss: 0.8828 - val_accuracy: 0.7908 - _timestamp: 1648902131.0000 - _runtime: 3544.0000\n",
            "Epoch 10/10\n",
            "282/282 [==============================] - 389s 1s/step - loss: 0.3479 - accuracy: 0.9002 - val_loss: 0.7947 - val_accuracy: 0.8068 - _timestamp: 1648902520.0000 - _runtime: 3933.0000\n",
            "\n"
          ]
        },
        {
          "output_type": "display_data",
          "data": {
            "text/plain": [
              "<IPython.core.display.HTML object>"
            ],
            "text/html": [
              "Waiting for W&B process to finish... <strong style=\"color:green\">(success).</strong>"
            ]
          },
          "metadata": {}
        },
        {
          "output_type": "display_data",
          "data": {
            "text/plain": [
              "VBox(children=(Label(value='444.246 MB of 444.246 MB uploaded (0.000 MB deduped)\\r'), FloatProgress(value=1.0,…"
            ],
            "application/vnd.jupyter.widget-view+json": {
              "version_major": 2,
              "version_minor": 0,
              "model_id": "89aff19eb2044545bc1e8f66aa61bad4"
            }
          },
          "metadata": {}
        },
        {
          "output_type": "display_data",
          "data": {
            "text/plain": [
              "<IPython.core.display.HTML object>"
            ],
            "text/html": [
              "<style>\n",
              "    table.wandb td:nth-child(1) { padding: 0 10px; text-align: right }\n",
              "    .wandb-row { display: flex; flex-direction: row; flex-wrap: wrap; width: 100% }\n",
              "    .wandb-col { display: flex; flex-direction: column; flex-basis: 100%; flex: 1; padding: 10px; }\n",
              "    </style>\n",
              "<div class=\"wandb-row\"><div class=\"wandb-col\"><h3>Run history:</h3><br/><table class=\"wandb\"><tr><td>accuracy</td><td>▁▄▅▆▆▇▇███</td></tr><tr><td>dropout</td><td>▁</td></tr><tr><td>epoch</td><td>▁▂▃▃▄▅▆▆▇█</td></tr><tr><td>loss</td><td>█▅▄▃▃▂▂▁▁▁</td></tr><tr><td>val_acc</td><td>▁</td></tr><tr><td>val_accuracy</td><td>▁▄▆▅▇▇▇█▇█</td></tr><tr><td>val_loss</td><td>█▄▂▄▁▁▂▁▃▂</td></tr></table><br/></div><div class=\"wandb-col\"><h3>Run summary:</h3><br/><table class=\"wandb\"><tr><td>accuracy</td><td>0.90022</td></tr><tr><td>augmentation</td><td>yes</td></tr><tr><td>batchnorm</td><td>yes</td></tr><tr><td>best_epoch</td><td>5</td></tr><tr><td>best_val_loss</td><td>0.69476</td></tr><tr><td>dropout</td><td>0.4</td></tr><tr><td>epoch</td><td>9</td></tr><tr><td>loss</td><td>0.34788</td></tr><tr><td>pre_trained_model</td><td>Xception</td></tr><tr><td>val_acc</td><td>0.81181</td></tr><tr><td>val_accuracy</td><td>0.80681</td></tr><tr><td>val_loss</td><td>0.79469</td></tr></table><br/></div></div>"
            ]
          },
          "metadata": {}
        },
        {
          "output_type": "display_data",
          "data": {
            "text/plain": [
              "<IPython.core.display.HTML object>"
            ],
            "text/html": [
              "Synced <strong style=\"color:#cdcd00\">crimson-sweep-2</strong>: <a href=\"https://wandb.ai/girishrongali/Assignment2_partb/runs/9pgmy4v6\" target=\"_blank\">https://wandb.ai/girishrongali/Assignment2_partb/runs/9pgmy4v6</a><br/>Synced 5 W&B file(s), 1 media file(s), 0 artifact file(s) and 1 other file(s)"
            ]
          },
          "metadata": {}
        },
        {
          "output_type": "display_data",
          "data": {
            "text/plain": [
              "<IPython.core.display.HTML object>"
            ],
            "text/html": [
              "Find logs at: <code>./wandb/run-20220402_112303-9pgmy4v6/logs</code>"
            ]
          },
          "metadata": {}
        },
        {
          "output_type": "stream",
          "name": "stderr",
          "text": [
            "\u001b[34m\u001b[1mwandb\u001b[0m: Agent Starting Run: rxfedq7z with config:\n",
            "\u001b[34m\u001b[1mwandb\u001b[0m: \taugmentation: yes\n",
            "\u001b[34m\u001b[1mwandb\u001b[0m: \tbatch_norm: yes\n",
            "\u001b[34m\u001b[1mwandb\u001b[0m: \tbatch_size: 32\n",
            "\u001b[34m\u001b[1mwandb\u001b[0m: \tdroprate: 0.4\n",
            "\u001b[34m\u001b[1mwandb\u001b[0m: \tfc_size: 128\n",
            "\u001b[34m\u001b[1mwandb\u001b[0m: \tk_freeze_percent: 0.8\n",
            "\u001b[34m\u001b[1mwandb\u001b[0m: \tpre_train: inceptionv3\n"
          ]
        },
        {
          "output_type": "display_data",
          "data": {
            "text/plain": [
              "<IPython.core.display.HTML object>"
            ],
            "text/html": [
              "Tracking run with wandb version 0.12.11"
            ]
          },
          "metadata": {}
        },
        {
          "output_type": "display_data",
          "data": {
            "text/plain": [
              "<IPython.core.display.HTML object>"
            ],
            "text/html": [
              "Run data is saved locally in <code>/content/wandb/run-20220402_122948-rxfedq7z</code>"
            ]
          },
          "metadata": {}
        },
        {
          "output_type": "display_data",
          "data": {
            "text/plain": [
              "<IPython.core.display.HTML object>"
            ],
            "text/html": [
              "Syncing run <strong><a href=\"https://wandb.ai/girishrongali/Assignment2_partb/runs/rxfedq7z\" target=\"_blank\">effortless-sweep-3</a></strong> to <a href=\"https://wandb.ai/girishrongali/Assignment2_partb\" target=\"_blank\">Weights & Biases</a> (<a href=\"https://wandb.me/run\" target=\"_blank\">docs</a>)<br/>Sweep page:  <a href=\"https://wandb.ai/girishrongali/Assignment2_partb/sweeps/slzk8zps\" target=\"_blank\">https://wandb.ai/girishrongali/Assignment2_partb/sweeps/slzk8zps</a>"
            ]
          },
          "metadata": {}
        },
        {
          "output_type": "display_data",
          "data": {
            "text/plain": [
              "<IPython.core.display.HTML object>"
            ],
            "text/html": [
              "Finishing last run (ID:rxfedq7z) before initializing another..."
            ]
          },
          "metadata": {}
        },
        {
          "output_type": "stream",
          "name": "stdout",
          "text": [
            "\n"
          ]
        },
        {
          "output_type": "display_data",
          "data": {
            "text/plain": [
              "<IPython.core.display.HTML object>"
            ],
            "text/html": [
              "Waiting for W&B process to finish... <strong style=\"color:green\">(success).</strong>"
            ]
          },
          "metadata": {}
        },
        {
          "output_type": "display_data",
          "data": {
            "text/plain": [
              "VBox(children=(Label(value='0.000 MB of 0.001 MB uploaded (0.000 MB deduped)\\r'), FloatProgress(value=0.0, max…"
            ],
            "application/vnd.jupyter.widget-view+json": {
              "version_major": 2,
              "version_minor": 0,
              "model_id": "4918bc9749824e9590ab029b80eec770"
            }
          },
          "metadata": {}
        },
        {
          "output_type": "display_data",
          "data": {
            "text/plain": [
              "<IPython.core.display.HTML object>"
            ],
            "text/html": [
              "Synced <strong style=\"color:#cdcd00\">effortless-sweep-3</strong>: <a href=\"https://wandb.ai/girishrongali/Assignment2_partb/runs/rxfedq7z\" target=\"_blank\">https://wandb.ai/girishrongali/Assignment2_partb/runs/rxfedq7z</a><br/>Synced 4 W&B file(s), 0 media file(s), 0 artifact file(s) and 0 other file(s)"
            ]
          },
          "metadata": {}
        },
        {
          "output_type": "display_data",
          "data": {
            "text/plain": [
              "<IPython.core.display.HTML object>"
            ],
            "text/html": [
              "Find logs at: <code>./wandb/run-20220402_122948-rxfedq7z/logs</code>"
            ]
          },
          "metadata": {}
        },
        {
          "output_type": "display_data",
          "data": {
            "text/plain": [
              "<IPython.core.display.HTML object>"
            ],
            "text/html": [
              "Successfully finished last run (ID:rxfedq7z). Initializing new run:<br/>"
            ]
          },
          "metadata": {}
        },
        {
          "output_type": "display_data",
          "data": {
            "text/plain": [
              "<IPython.core.display.HTML object>"
            ],
            "text/html": [
              "Tracking run with wandb version 0.12.11"
            ]
          },
          "metadata": {}
        },
        {
          "output_type": "display_data",
          "data": {
            "text/plain": [
              "<IPython.core.display.HTML object>"
            ],
            "text/html": [
              "Run data is saved locally in <code>/content/wandb/run-20220402_122956-rxfedq7z</code>"
            ]
          },
          "metadata": {}
        },
        {
          "output_type": "display_data",
          "data": {
            "text/plain": [
              "<IPython.core.display.HTML object>"
            ],
            "text/html": [
              "Syncing run <strong><a href=\"https://wandb.ai/girishrongali/Assignment2_partb/runs/rxfedq7z\" target=\"_blank\">effortless-sweep-3</a></strong> to <a href=\"https://wandb.ai/girishrongali/Assignment2_partb\" target=\"_blank\">Weights & Biases</a> (<a href=\"https://wandb.me/run\" target=\"_blank\">docs</a>)<br/>Sweep page:  <a href=\"https://wandb.ai/girishrongali/Assignment2_partb/sweeps/slzk8zps\" target=\"_blank\">https://wandb.ai/girishrongali/Assignment2_partb/sweeps/slzk8zps</a>"
            ]
          },
          "metadata": {}
        },
        {
          "output_type": "stream",
          "name": "stdout",
          "text": [
            "Downloading data from https://storage.googleapis.com/tensorflow/keras-applications/inception_v3/inception_v3_weights_tf_dim_ordering_tf_kernels_notop.h5\n",
            "87916544/87910968 [==============================] - 1s 0us/step\n",
            "87924736/87910968 [==============================] - 1s 0us/step\n",
            "Found 9000 images belonging to 10 classes.\n",
            "Found 9000 images belonging to 10 classes.\n",
            "Found 999 images belonging to 10 classes.\n",
            "Epoch 1/10\n",
            "282/282 [==============================] - 359s 1s/step - loss: 1.2602 - accuracy: 0.6028 - val_loss: 0.8680 - val_accuracy: 0.7457 - _timestamp: 1648902972.0000 - _runtime: 372.0000\n",
            "Epoch 2/10\n",
            "282/282 [==============================] - 322s 1s/step - loss: 0.8893 - accuracy: 0.7282 - val_loss: 0.7785 - val_accuracy: 0.7698 - _timestamp: 1648903324.0000 - _runtime: 724.0000\n",
            "Epoch 3/10\n",
            "282/282 [==============================] - ETA: 0s - loss: 0.7592 - accuracy: 0.7691"
          ]
        }
      ]
    },
    {
      "cell_type": "markdown",
      "source": [
        "## Evaluating the model on the TEST set "
      ],
      "metadata": {
        "id": "syP6nHhgSrbl"
      }
    },
    {
      "cell_type": "code",
      "source": [
        "#this config gives best val accuracy\n",
        "config_defaults={\n",
        "   'fc_size':128,\n",
        "   'batch_norm':'yes',\n",
        "   'augmentation':'no',\n",
        "    'droprate':0.4,\n",
        "    'pre_train':'inceptionresnetv2',\n",
        "    'k_freeze_percent':0.8,\n",
        "    'batch_size':32\n",
        "}"
      ],
      "metadata": {
        "id": "vC0ofCUEhPPJ"
      },
      "execution_count": null,
      "outputs": []
    },
    {
      "cell_type": "code",
      "source": [
        "def OptimalPreTrain(config=config_defaults):\n",
        "\n",
        "  #wandb init and log commented to do trial run\n",
        "  wandb.init()\n",
        "  batch_norm=config['batch_norm']\n",
        "  droprate=config['droprate']\n",
        "  batch_size=config['batch_size']\n",
        "  augmentation=config['augmentation']\n",
        "  fc_size=config['fc_size']\n",
        "  pre_train = config['pre_train']\n",
        "  k_freeze_percent=config['k_freeze_percent']\n",
        "\n",
        "  if pre_train == 'inceptionv3':\n",
        "    img_height = 299\n",
        "    img_width = 299\n",
        "    base_model = InceptionV3(include_top=False, weights='imagenet',input_shape=(img_height, img_width,3))\n",
        "    # 'include_top = False ' leaves out the last layer as Image net has 1000 classes ,in our inaturalist dataset we have only 10 classes, we will add a dense layer of 10 classes .\n",
        "    k = math.ceil(k_freeze_percent*311)  \n",
        "    #There are 311 layers in inceptionv3 model . If 'k' is 70% then we want to Freeze the 70% of first layers in feature extraction ,use the weights of inceptionv3 model \n",
        "    # and train the rest of the 30% layers which are towards the end and update weights.  \n",
        "                                                 \n",
        "  if pre_train == 'inceptionresnetv2':\n",
        "    img_height = 299\n",
        "    img_width = 299\n",
        "    base_model = InceptionResNetV2(include_top=False, weights='imagenet',input_shape=(img_height, img_width,3))\n",
        "    k = math.ceil(k_freeze_percent*780)\n",
        "\n",
        "  if pre_train == 'resnet50':\n",
        "    img_height = 224\n",
        "    img_width = 224\n",
        "    base_model = ResNet50(include_top=False, weights='imagenet',input_shape=(img_height, img_width,3))\n",
        "    k = math.ceil(k_freeze_percent*175)\n",
        "\n",
        "  if pre_train == 'Xception':\n",
        "    img_height = 299\n",
        "    img_width = 299\n",
        "    base_model = Xception(include_top=False, weights='imagenet',input_shape=(img_height, img_width,3))\n",
        "    k = math.ceil(k_freeze_percent*132)  \n",
        "\n",
        "  i = 0\n",
        "  for layers in base_model.layers:\n",
        "    layers.trainable = False\n",
        "    i+=1\n",
        "    if(i==k):\n",
        "            break\n",
        "\n",
        "  model = keras.Sequential([\n",
        "      tf.keras.Input(shape=(img_height, img_width,3,)),\n",
        "      base_model,\n",
        "      Flatten(),\n",
        "      Dense(fc_size,activation='relu'),\n",
        "      \n",
        "  ])\n",
        "  if batch_norm == 'yes':\n",
        "    model.add(BatchNormalization())\n",
        "  model.add(Dropout(droprate))\n",
        "  model.add(Dense(fc_size, activation='relu'))\n",
        "  model.add(Dropout(droprate))\n",
        "  model.add(Dense(10 ,activation='softmax'))\n",
        "  \n",
        "\n",
        "  #data generators for train(with and without validation) and validation\n",
        "  augment= ImageDataGenerator(\n",
        "    rotation_range=30,\n",
        "    width_shift_range=0.2,\n",
        "    height_shift_range=0.2,\n",
        "    zoom_range=0.2,\n",
        "    horizontal_flip=True,\n",
        "    rescale=1.0 / 255,\n",
        "    validation_split=0.1,\n",
        "    dtype=tf.float32,\n",
        "  )\n",
        "\n",
        "  datagen = ImageDataGenerator(\n",
        "    rescale=1.0 / 255,\n",
        "    validation_split=0.1,\n",
        "    dtype=tf.float32,\n",
        "  )\n",
        "\n",
        "  train_set = datagen.flow_from_directory(\n",
        "    train_datapath,\n",
        "    target_size=(img_height, img_width),\n",
        "    batch_size=batch_size,\n",
        "    color_mode='rgb',\n",
        "    class_mode='sparse',\n",
        "    shuffle=True,\n",
        "    subset='training',\n",
        "    seed=123,\n",
        "  )\n",
        "\n",
        "  aug_set = augment.flow_from_directory(\n",
        "      train_datapath,\n",
        "      target_size=(img_height, img_width),\n",
        "      batch_size=batch_size,\n",
        "      color_mode='rgb',\n",
        "      class_mode='sparse',\n",
        "      shuffle=True,\n",
        "      subset='training',\n",
        "      seed=123,\n",
        "  )\n",
        "\n",
        "  val_set = datagen.flow_from_directory(\n",
        "      train_datapath,\n",
        "      target_size=(img_height, img_width),\n",
        "      color_mode='rgb',\n",
        "      class_mode='sparse',\n",
        "      batch_size=batch_size,\n",
        "      shuffle=True,\n",
        "      subset='validation',\n",
        "      seed=123,\n",
        "  )\n",
        "\n",
        "  model.compile(\n",
        "    optimizer=tf.keras.optimizers.Adam(),\n",
        "    loss=[tf.keras.losses.SparseCategoricalCrossentropy()],\n",
        "    metrics=['accuracy'],\n",
        "  )\n",
        "\n",
        "  if augmentation =='no' :\n",
        "    hist=model.fit(train_set,epochs=10,validation_data=val_set,callbacks = [tf.keras.callbacks.EarlyStopping(monitor = 'val_accuracy', patience = 5), wandb.keras.WandbCallback()])\n",
        "    \n",
        "  \n",
        "  else:\n",
        "    hist=model.fit(aug_set,epochs=10,validation_data=val_set,callbacks = [tf.keras.callbacks.EarlyStopping(monitor = 'val_accuracy', patience = 5), wandb.keras.WandbCallback()])\n",
        "\n",
        "  val_acc=max(hist.history['val_accuracy'])\n",
        "  params={'batchnorm':batch_norm,'augmentation':augmentation,'dropout':droprate,'pre_trained_model':pre_train,'val_acc':val_acc}\n",
        "  wandb.log(params)\n",
        "  return model "
      ],
      "metadata": {
        "id": "Nlba72IUhbkt"
      },
      "execution_count": null,
      "outputs": []
    },
    {
      "cell_type": "code",
      "source": [
        "model = OptimalPreTrain(config=config_defaults)"
      ],
      "metadata": {
        "id": "0I6JcziiincB",
        "colab": {
          "base_uri": "https://localhost:8080/",
          "height": 587
        },
        "outputId": "248fcd6e-addf-4ec1-b727-f6b4d131dab6"
      },
      "execution_count": null,
      "outputs": [
        {
          "output_type": "display_data",
          "data": {
            "text/plain": [
              "<IPython.core.display.Javascript object>"
            ],
            "application/javascript": [
              "\n",
              "        window._wandbApiKey = new Promise((resolve, reject) => {\n",
              "            function loadScript(url) {\n",
              "            return new Promise(function(resolve, reject) {\n",
              "                let newScript = document.createElement(\"script\");\n",
              "                newScript.onerror = reject;\n",
              "                newScript.onload = resolve;\n",
              "                document.body.appendChild(newScript);\n",
              "                newScript.src = url;\n",
              "            });\n",
              "            }\n",
              "            loadScript(\"https://cdn.jsdelivr.net/npm/postmate/build/postmate.min.js\").then(() => {\n",
              "            const iframe = document.createElement('iframe')\n",
              "            iframe.style.cssText = \"width:0;height:0;border:none\"\n",
              "            document.body.appendChild(iframe)\n",
              "            const handshake = new Postmate({\n",
              "                container: iframe,\n",
              "                url: 'https://wandb.ai/authorize'\n",
              "            });\n",
              "            const timeout = setTimeout(() => reject(\"Couldn't auto authenticate\"), 5000)\n",
              "            handshake.then(function(child) {\n",
              "                child.on('authorize', data => {\n",
              "                    clearTimeout(timeout)\n",
              "                    resolve(data)\n",
              "                });\n",
              "            });\n",
              "            })\n",
              "        });\n",
              "    "
            ]
          },
          "metadata": {}
        },
        {
          "output_type": "stream",
          "name": "stderr",
          "text": [
            "\u001b[34m\u001b[1mwandb\u001b[0m: You can find your API key in your browser here: https://wandb.ai/authorize\n"
          ]
        },
        {
          "name": "stdout",
          "output_type": "stream",
          "text": [
            "wandb: Paste an API key from your profile and hit enter, or press ctrl+c to quit: ··········\n"
          ]
        },
        {
          "output_type": "stream",
          "name": "stderr",
          "text": [
            "\u001b[34m\u001b[1mwandb\u001b[0m: Appending key for api.wandb.ai to your netrc file: /root/.netrc\n"
          ]
        },
        {
          "output_type": "display_data",
          "data": {
            "text/plain": [
              "<IPython.core.display.HTML object>"
            ],
            "text/html": [
              "Tracking run with wandb version 0.12.11"
            ]
          },
          "metadata": {}
        },
        {
          "output_type": "display_data",
          "data": {
            "text/plain": [
              "<IPython.core.display.HTML object>"
            ],
            "text/html": [
              "Run data is saved locally in <code>/content/wandb/run-20220402_164751-31g8oct9</code>"
            ]
          },
          "metadata": {}
        },
        {
          "output_type": "display_data",
          "data": {
            "text/plain": [
              "<IPython.core.display.HTML object>"
            ],
            "text/html": [
              "Syncing run <strong><a href=\"https://wandb.ai/girishrongali/uncategorized/runs/31g8oct9\" target=\"_blank\">logical-blaze-1</a></strong> to <a href=\"https://wandb.ai/girishrongali/uncategorized\" target=\"_blank\">Weights & Biases</a> (<a href=\"https://wandb.me/run\" target=\"_blank\">docs</a>)<br/>"
            ]
          },
          "metadata": {}
        },
        {
          "output_type": "stream",
          "name": "stdout",
          "text": [
            "Found 9000 images belonging to 10 classes.\n",
            "Found 9000 images belonging to 10 classes.\n",
            "Found 999 images belonging to 10 classes.\n",
            "Epoch 1/10\n",
            "282/282 [==============================] - 328s 1s/step - loss: 1.1577 - accuracy: 0.6429 - val_loss: 3.7026 - val_accuracy: 0.5325 - _timestamp: 1648918415.0000 - _runtime: 344.0000\n",
            "Epoch 2/10\n",
            "282/282 [==============================] - 291s 1s/step - loss: 0.7046 - accuracy: 0.7862 - val_loss: 0.9555 - val_accuracy: 0.7377 - _timestamp: 1648918707.0000 - _runtime: 636.0000\n",
            "Epoch 3/10\n",
            "282/282 [==============================] - 288s 1s/step - loss: 0.5242 - accuracy: 0.8401 - val_loss: 1.6431 - val_accuracy: 0.7818 - _timestamp: 1648918998.0000 - _runtime: 927.0000\n",
            "Epoch 4/10\n",
            "282/282 [==============================] - 292s 1s/step - loss: 0.3872 - accuracy: 0.8833 - val_loss: 0.7329 - val_accuracy: 0.7718 - _timestamp: 1648919286.0000 - _runtime: 1215.0000\n",
            "Epoch 5/10\n",
            "282/282 [==============================] - 289s 1s/step - loss: 0.2869 - accuracy: 0.9133 - val_loss: 0.8948 - val_accuracy: 0.7848 - _timestamp: 1648919578.0000 - _runtime: 1507.0000\n",
            "Epoch 6/10\n",
            "282/282 [==============================] - 288s 1s/step - loss: 0.2354 - accuracy: 0.9296 - val_loss: 0.8442 - val_accuracy: 0.8038 - _timestamp: 1648919867.0000 - _runtime: 1796.0000\n",
            "Epoch 7/10\n",
            "282/282 [==============================] - 289s 1s/step - loss: 0.1535 - accuracy: 0.9548 - val_loss: 1.3503 - val_accuracy: 0.8048 - _timestamp: 1648920189.0000 - _runtime: 2118.0000\n",
            "Epoch 8/10\n",
            "282/282 [==============================] - 288s 1s/step - loss: 0.1204 - accuracy: 0.9642 - val_loss: 0.8972 - val_accuracy: 0.8008 - _timestamp: 1648920477.0000 - _runtime: 2406.0000\n",
            "Epoch 9/10\n",
            "282/282 [==============================] - 288s 1s/step - loss: 0.1011 - accuracy: 0.9699 - val_loss: 0.9533 - val_accuracy: 0.8118 - _timestamp: 1648920765.0000 - _runtime: 2694.0000\n",
            "Epoch 10/10\n",
            "282/282 [==============================] - 288s 1s/step - loss: 0.0923 - accuracy: 0.9712 - val_loss: 1.0217 - val_accuracy: 0.7888 - _timestamp: 1648921053.0000 - _runtime: 2982.0000\n"
          ]
        }
      ]
    },
    {
      "cell_type": "code",
      "source": [
        "# data generator for test set\n",
        "test_datagen = ImageDataGenerator(\n",
        "    rescale=1.0 / 255,\n",
        "  )\n",
        "\n",
        "test_set = test_datagen.flow_from_directory(\n",
        "      test_datapath,\n",
        "      target_size=(299, 299),\n",
        "      color_mode='rgb',\n",
        "      class_mode='sparse',\n",
        "      shuffle=True,\n",
        "      seed=123,\n",
        "  )\n",
        "\n",
        "#evaluating model on test set\n",
        "test_loss, test_acc = model.evaluate(test_set, verbose=2)\n",
        "wandb.log({\"test_loss\": test_loss, \"test_accuracy\": test_acc})"
      ],
      "metadata": {
        "id": "Fr6pa4F6SxBL",
        "colab": {
          "base_uri": "https://localhost:8080/"
        },
        "outputId": "93de802c-88b1-4428-f376-285c2670795b"
      },
      "execution_count": null,
      "outputs": [
        {
          "output_type": "stream",
          "name": "stdout",
          "text": [
            "Found 2000 images belonging to 10 classes.\n",
            "63/63 - 50s - loss: 0.8487 - accuracy: 0.8115 - 50s/epoch - 787ms/step\n"
          ]
        }
      ]
    }
  ]
}