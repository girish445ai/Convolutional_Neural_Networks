{
  "nbformat": 4,
  "nbformat_minor": 0,
  "metadata": {
    "colab": {
      "name": "Convolutional_Neural_Networks_PART_A .ipynb",
      "provenance": [],
      "collapsed_sections": [],
      "include_colab_link": true
    },
    "kernelspec": {
      "name": "python3",
      "display_name": "Python 3"
    },
    "language_info": {
      "name": "python"
    }
  },
  "cells": [
    {
      "cell_type": "markdown",
      "metadata": {
        "id": "view-in-github",
        "colab_type": "text"
      },
      "source": [
        "<a href=\"https://colab.research.google.com/github/girish445ai/Convolutional_Neural_Networks/blob/main/Convolutional_Neural_Networks_PART_A.ipynb\" target=\"_parent\"><img src=\"https://colab.research.google.com/assets/colab-badge.svg\" alt=\"Open In Colab\"/></a>"
      ]
    },
    {
      "cell_type": "code",
      "source": [
        "pip install wandb"
      ],
      "metadata": {
        "colab": {
          "base_uri": "https://localhost:8080/"
        },
        "id": "PL9eeyDoqdk7",
        "outputId": "82b161a6-2ad4-4ea3-87c5-f65b3891b638"
      },
      "execution_count": null,
      "outputs": [
        {
          "output_type": "stream",
          "name": "stdout",
          "text": [
            "Collecting wandb\n",
            "  Downloading wandb-0.12.11-py2.py3-none-any.whl (1.7 MB)\n",
            "\u001b[?25l\r\u001b[K     |▏                               | 10 kB 23.1 MB/s eta 0:00:01\r\u001b[K     |▍                               | 20 kB 31.0 MB/s eta 0:00:01\r\u001b[K     |▋                               | 30 kB 21.8 MB/s eta 0:00:01\r\u001b[K     |▊                               | 40 kB 17.6 MB/s eta 0:00:01\r\u001b[K     |█                               | 51 kB 10.4 MB/s eta 0:00:01\r\u001b[K     |█▏                              | 61 kB 11.8 MB/s eta 0:00:01\r\u001b[K     |█▎                              | 71 kB 9.6 MB/s eta 0:00:01\r\u001b[K     |█▌                              | 81 kB 8.7 MB/s eta 0:00:01\r\u001b[K     |█▊                              | 92 kB 9.6 MB/s eta 0:00:01\r\u001b[K     |█▉                              | 102 kB 10.4 MB/s eta 0:00:01\r\u001b[K     |██                              | 112 kB 10.4 MB/s eta 0:00:01\r\u001b[K     |██▎                             | 122 kB 10.4 MB/s eta 0:00:01\r\u001b[K     |██▍                             | 133 kB 10.4 MB/s eta 0:00:01\r\u001b[K     |██▋                             | 143 kB 10.4 MB/s eta 0:00:01\r\u001b[K     |██▉                             | 153 kB 10.4 MB/s eta 0:00:01\r\u001b[K     |███                             | 163 kB 10.4 MB/s eta 0:00:01\r\u001b[K     |███▏                            | 174 kB 10.4 MB/s eta 0:00:01\r\u001b[K     |███▍                            | 184 kB 10.4 MB/s eta 0:00:01\r\u001b[K     |███▋                            | 194 kB 10.4 MB/s eta 0:00:01\r\u001b[K     |███▊                            | 204 kB 10.4 MB/s eta 0:00:01\r\u001b[K     |████                            | 215 kB 10.4 MB/s eta 0:00:01\r\u001b[K     |████▏                           | 225 kB 10.4 MB/s eta 0:00:01\r\u001b[K     |████▎                           | 235 kB 10.4 MB/s eta 0:00:01\r\u001b[K     |████▌                           | 245 kB 10.4 MB/s eta 0:00:01\r\u001b[K     |████▊                           | 256 kB 10.4 MB/s eta 0:00:01\r\u001b[K     |████▉                           | 266 kB 10.4 MB/s eta 0:00:01\r\u001b[K     |█████                           | 276 kB 10.4 MB/s eta 0:00:01\r\u001b[K     |█████▎                          | 286 kB 10.4 MB/s eta 0:00:01\r\u001b[K     |█████▌                          | 296 kB 10.4 MB/s eta 0:00:01\r\u001b[K     |█████▋                          | 307 kB 10.4 MB/s eta 0:00:01\r\u001b[K     |█████▉                          | 317 kB 10.4 MB/s eta 0:00:01\r\u001b[K     |██████                          | 327 kB 10.4 MB/s eta 0:00:01\r\u001b[K     |██████▏                         | 337 kB 10.4 MB/s eta 0:00:01\r\u001b[K     |██████▍                         | 348 kB 10.4 MB/s eta 0:00:01\r\u001b[K     |██████▋                         | 358 kB 10.4 MB/s eta 0:00:01\r\u001b[K     |██████▊                         | 368 kB 10.4 MB/s eta 0:00:01\r\u001b[K     |███████                         | 378 kB 10.4 MB/s eta 0:00:01\r\u001b[K     |███████▏                        | 389 kB 10.4 MB/s eta 0:00:01\r\u001b[K     |███████▎                        | 399 kB 10.4 MB/s eta 0:00:01\r\u001b[K     |███████▌                        | 409 kB 10.4 MB/s eta 0:00:01\r\u001b[K     |███████▊                        | 419 kB 10.4 MB/s eta 0:00:01\r\u001b[K     |███████▉                        | 430 kB 10.4 MB/s eta 0:00:01\r\u001b[K     |████████                        | 440 kB 10.4 MB/s eta 0:00:01\r\u001b[K     |████████▎                       | 450 kB 10.4 MB/s eta 0:00:01\r\u001b[K     |████████▌                       | 460 kB 10.4 MB/s eta 0:00:01\r\u001b[K     |████████▋                       | 471 kB 10.4 MB/s eta 0:00:01\r\u001b[K     |████████▉                       | 481 kB 10.4 MB/s eta 0:00:01\r\u001b[K     |█████████                       | 491 kB 10.4 MB/s eta 0:00:01\r\u001b[K     |█████████▏                      | 501 kB 10.4 MB/s eta 0:00:01\r\u001b[K     |█████████▍                      | 512 kB 10.4 MB/s eta 0:00:01\r\u001b[K     |█████████▋                      | 522 kB 10.4 MB/s eta 0:00:01\r\u001b[K     |█████████▊                      | 532 kB 10.4 MB/s eta 0:00:01\r\u001b[K     |██████████                      | 542 kB 10.4 MB/s eta 0:00:01\r\u001b[K     |██████████▏                     | 552 kB 10.4 MB/s eta 0:00:01\r\u001b[K     |██████████▎                     | 563 kB 10.4 MB/s eta 0:00:01\r\u001b[K     |██████████▌                     | 573 kB 10.4 MB/s eta 0:00:01\r\u001b[K     |██████████▊                     | 583 kB 10.4 MB/s eta 0:00:01\r\u001b[K     |███████████                     | 593 kB 10.4 MB/s eta 0:00:01\r\u001b[K     |███████████                     | 604 kB 10.4 MB/s eta 0:00:01\r\u001b[K     |███████████▎                    | 614 kB 10.4 MB/s eta 0:00:01\r\u001b[K     |███████████▌                    | 624 kB 10.4 MB/s eta 0:00:01\r\u001b[K     |███████████▋                    | 634 kB 10.4 MB/s eta 0:00:01\r\u001b[K     |███████████▉                    | 645 kB 10.4 MB/s eta 0:00:01\r\u001b[K     |████████████                    | 655 kB 10.4 MB/s eta 0:00:01\r\u001b[K     |████████████▏                   | 665 kB 10.4 MB/s eta 0:00:01\r\u001b[K     |████████████▍                   | 675 kB 10.4 MB/s eta 0:00:01\r\u001b[K     |████████████▋                   | 686 kB 10.4 MB/s eta 0:00:01\r\u001b[K     |████████████▊                   | 696 kB 10.4 MB/s eta 0:00:01\r\u001b[K     |█████████████                   | 706 kB 10.4 MB/s eta 0:00:01\r\u001b[K     |█████████████▏                  | 716 kB 10.4 MB/s eta 0:00:01\r\u001b[K     |█████████████▍                  | 727 kB 10.4 MB/s eta 0:00:01\r\u001b[K     |█████████████▌                  | 737 kB 10.4 MB/s eta 0:00:01\r\u001b[K     |█████████████▊                  | 747 kB 10.4 MB/s eta 0:00:01\r\u001b[K     |██████████████                  | 757 kB 10.4 MB/s eta 0:00:01\r\u001b[K     |██████████████                  | 768 kB 10.4 MB/s eta 0:00:01\r\u001b[K     |██████████████▎                 | 778 kB 10.4 MB/s eta 0:00:01\r\u001b[K     |██████████████▌                 | 788 kB 10.4 MB/s eta 0:00:01\r\u001b[K     |██████████████▋                 | 798 kB 10.4 MB/s eta 0:00:01\r\u001b[K     |██████████████▉                 | 808 kB 10.4 MB/s eta 0:00:01\r\u001b[K     |███████████████                 | 819 kB 10.4 MB/s eta 0:00:01\r\u001b[K     |███████████████▏                | 829 kB 10.4 MB/s eta 0:00:01\r\u001b[K     |███████████████▍                | 839 kB 10.4 MB/s eta 0:00:01\r\u001b[K     |███████████████▋                | 849 kB 10.4 MB/s eta 0:00:01\r\u001b[K     |███████████████▊                | 860 kB 10.4 MB/s eta 0:00:01\r\u001b[K     |████████████████                | 870 kB 10.4 MB/s eta 0:00:01\r\u001b[K     |████████████████▏               | 880 kB 10.4 MB/s eta 0:00:01\r\u001b[K     |████████████████▍               | 890 kB 10.4 MB/s eta 0:00:01\r\u001b[K     |████████████████▌               | 901 kB 10.4 MB/s eta 0:00:01\r\u001b[K     |████████████████▊               | 911 kB 10.4 MB/s eta 0:00:01\r\u001b[K     |█████████████████               | 921 kB 10.4 MB/s eta 0:00:01\r\u001b[K     |█████████████████               | 931 kB 10.4 MB/s eta 0:00:01\r\u001b[K     |█████████████████▎              | 942 kB 10.4 MB/s eta 0:00:01\r\u001b[K     |█████████████████▌              | 952 kB 10.4 MB/s eta 0:00:01\r\u001b[K     |█████████████████▋              | 962 kB 10.4 MB/s eta 0:00:01\r\u001b[K     |█████████████████▉              | 972 kB 10.4 MB/s eta 0:00:01\r\u001b[K     |██████████████████              | 983 kB 10.4 MB/s eta 0:00:01\r\u001b[K     |██████████████████▏             | 993 kB 10.4 MB/s eta 0:00:01\r\u001b[K     |██████████████████▍             | 1.0 MB 10.4 MB/s eta 0:00:01\r\u001b[K     |██████████████████▋             | 1.0 MB 10.4 MB/s eta 0:00:01\r\u001b[K     |██████████████████▉             | 1.0 MB 10.4 MB/s eta 0:00:01\r\u001b[K     |███████████████████             | 1.0 MB 10.4 MB/s eta 0:00:01\r\u001b[K     |███████████████████▏            | 1.0 MB 10.4 MB/s eta 0:00:01\r\u001b[K     |███████████████████▍            | 1.1 MB 10.4 MB/s eta 0:00:01\r\u001b[K     |███████████████████▌            | 1.1 MB 10.4 MB/s eta 0:00:01\r\u001b[K     |███████████████████▊            | 1.1 MB 10.4 MB/s eta 0:00:01\r\u001b[K     |████████████████████            | 1.1 MB 10.4 MB/s eta 0:00:01\r\u001b[K     |████████████████████            | 1.1 MB 10.4 MB/s eta 0:00:01\r\u001b[K     |████████████████████▎           | 1.1 MB 10.4 MB/s eta 0:00:01\r\u001b[K     |████████████████████▌           | 1.1 MB 10.4 MB/s eta 0:00:01\r\u001b[K     |████████████████████▋           | 1.1 MB 10.4 MB/s eta 0:00:01\r\u001b[K     |████████████████████▉           | 1.1 MB 10.4 MB/s eta 0:00:01\r\u001b[K     |█████████████████████           | 1.1 MB 10.4 MB/s eta 0:00:01\r\u001b[K     |█████████████████████▏          | 1.2 MB 10.4 MB/s eta 0:00:01\r\u001b[K     |█████████████████████▍          | 1.2 MB 10.4 MB/s eta 0:00:01\r\u001b[K     |█████████████████████▋          | 1.2 MB 10.4 MB/s eta 0:00:01\r\u001b[K     |█████████████████████▉          | 1.2 MB 10.4 MB/s eta 0:00:01\r\u001b[K     |██████████████████████          | 1.2 MB 10.4 MB/s eta 0:00:01\r\u001b[K     |██████████████████████▏         | 1.2 MB 10.4 MB/s eta 0:00:01\r\u001b[K     |██████████████████████▍         | 1.2 MB 10.4 MB/s eta 0:00:01\r\u001b[K     |██████████████████████▌         | 1.2 MB 10.4 MB/s eta 0:00:01\r\u001b[K     |██████████████████████▊         | 1.2 MB 10.4 MB/s eta 0:00:01\r\u001b[K     |███████████████████████         | 1.2 MB 10.4 MB/s eta 0:00:01\r\u001b[K     |███████████████████████         | 1.3 MB 10.4 MB/s eta 0:00:01\r\u001b[K     |███████████████████████▎        | 1.3 MB 10.4 MB/s eta 0:00:01\r\u001b[K     |███████████████████████▌        | 1.3 MB 10.4 MB/s eta 0:00:01\r\u001b[K     |███████████████████████▋        | 1.3 MB 10.4 MB/s eta 0:00:01\r\u001b[K     |███████████████████████▉        | 1.3 MB 10.4 MB/s eta 0:00:01\r\u001b[K     |████████████████████████        | 1.3 MB 10.4 MB/s eta 0:00:01\r\u001b[K     |████████████████████████▎       | 1.3 MB 10.4 MB/s eta 0:00:01\r\u001b[K     |████████████████████████▍       | 1.3 MB 10.4 MB/s eta 0:00:01\r\u001b[K     |████████████████████████▋       | 1.3 MB 10.4 MB/s eta 0:00:01\r\u001b[K     |████████████████████████▉       | 1.4 MB 10.4 MB/s eta 0:00:01\r\u001b[K     |█████████████████████████       | 1.4 MB 10.4 MB/s eta 0:00:01\r\u001b[K     |█████████████████████████▏      | 1.4 MB 10.4 MB/s eta 0:00:01\r\u001b[K     |█████████████████████████▍      | 1.4 MB 10.4 MB/s eta 0:00:01\r\u001b[K     |█████████████████████████▌      | 1.4 MB 10.4 MB/s eta 0:00:01\r\u001b[K     |█████████████████████████▊      | 1.4 MB 10.4 MB/s eta 0:00:01\r\u001b[K     |██████████████████████████      | 1.4 MB 10.4 MB/s eta 0:00:01\r\u001b[K     |██████████████████████████      | 1.4 MB 10.4 MB/s eta 0:00:01\r\u001b[K     |██████████████████████████▎     | 1.4 MB 10.4 MB/s eta 0:00:01\r\u001b[K     |██████████████████████████▌     | 1.4 MB 10.4 MB/s eta 0:00:01\r\u001b[K     |██████████████████████████▊     | 1.5 MB 10.4 MB/s eta 0:00:01\r\u001b[K     |██████████████████████████▉     | 1.5 MB 10.4 MB/s eta 0:00:01\r\u001b[K     |███████████████████████████     | 1.5 MB 10.4 MB/s eta 0:00:01\r\u001b[K     |███████████████████████████▎    | 1.5 MB 10.4 MB/s eta 0:00:01\r\u001b[K     |███████████████████████████▍    | 1.5 MB 10.4 MB/s eta 0:00:01\r\u001b[K     |███████████████████████████▋    | 1.5 MB 10.4 MB/s eta 0:00:01\r\u001b[K     |███████████████████████████▉    | 1.5 MB 10.4 MB/s eta 0:00:01\r\u001b[K     |████████████████████████████    | 1.5 MB 10.4 MB/s eta 0:00:01\r\u001b[K     |████████████████████████████▏   | 1.5 MB 10.4 MB/s eta 0:00:01\r\u001b[K     |████████████████████████████▍   | 1.5 MB 10.4 MB/s eta 0:00:01\r\u001b[K     |████████████████████████████▌   | 1.6 MB 10.4 MB/s eta 0:00:01\r\u001b[K     |████████████████████████████▊   | 1.6 MB 10.4 MB/s eta 0:00:01\r\u001b[K     |█████████████████████████████   | 1.6 MB 10.4 MB/s eta 0:00:01\r\u001b[K     |█████████████████████████████   | 1.6 MB 10.4 MB/s eta 0:00:01\r\u001b[K     |█████████████████████████████▎  | 1.6 MB 10.4 MB/s eta 0:00:01\r\u001b[K     |█████████████████████████████▌  | 1.6 MB 10.4 MB/s eta 0:00:01\r\u001b[K     |█████████████████████████████▊  | 1.6 MB 10.4 MB/s eta 0:00:01\r\u001b[K     |█████████████████████████████▉  | 1.6 MB 10.4 MB/s eta 0:00:01\r\u001b[K     |██████████████████████████████  | 1.6 MB 10.4 MB/s eta 0:00:01\r\u001b[K     |██████████████████████████████▎ | 1.6 MB 10.4 MB/s eta 0:00:01\r\u001b[K     |██████████████████████████████▍ | 1.7 MB 10.4 MB/s eta 0:00:01\r\u001b[K     |██████████████████████████████▋ | 1.7 MB 10.4 MB/s eta 0:00:01\r\u001b[K     |██████████████████████████████▉ | 1.7 MB 10.4 MB/s eta 0:00:01\r\u001b[K     |███████████████████████████████ | 1.7 MB 10.4 MB/s eta 0:00:01\r\u001b[K     |███████████████████████████████▏| 1.7 MB 10.4 MB/s eta 0:00:01\r\u001b[K     |███████████████████████████████▍| 1.7 MB 10.4 MB/s eta 0:00:01\r\u001b[K     |███████████████████████████████▌| 1.7 MB 10.4 MB/s eta 0:00:01\r\u001b[K     |███████████████████████████████▊| 1.7 MB 10.4 MB/s eta 0:00:01\r\u001b[K     |████████████████████████████████| 1.7 MB 10.4 MB/s eta 0:00:01\r\u001b[K     |████████████████████████████████| 1.7 MB 10.4 MB/s \n",
            "\u001b[?25hCollecting pathtools\n",
            "  Downloading pathtools-0.1.2.tar.gz (11 kB)\n",
            "Requirement already satisfied: psutil>=5.0.0 in /usr/local/lib/python3.7/dist-packages (from wandb) (5.4.8)\n",
            "Collecting setproctitle\n",
            "  Downloading setproctitle-1.2.2-cp37-cp37m-manylinux1_x86_64.whl (36 kB)\n",
            "Requirement already satisfied: PyYAML in /usr/local/lib/python3.7/dist-packages (from wandb) (3.13)\n",
            "Collecting shortuuid>=0.5.0\n",
            "  Downloading shortuuid-1.0.8-py3-none-any.whl (9.5 kB)\n",
            "Collecting sentry-sdk>=1.0.0\n",
            "  Downloading sentry_sdk-1.5.8-py2.py3-none-any.whl (144 kB)\n",
            "\u001b[K     |████████████████████████████████| 144 kB 74.6 MB/s \n",
            "\u001b[?25hCollecting docker-pycreds>=0.4.0\n",
            "  Downloading docker_pycreds-0.4.0-py2.py3-none-any.whl (9.0 kB)\n",
            "Requirement already satisfied: protobuf>=3.12.0 in /usr/local/lib/python3.7/dist-packages (from wandb) (3.17.3)\n",
            "Collecting GitPython>=1.0.0\n",
            "  Downloading GitPython-3.1.27-py3-none-any.whl (181 kB)\n",
            "\u001b[K     |████████████████████████████████| 181 kB 58.5 MB/s \n",
            "\u001b[?25hRequirement already satisfied: promise<3,>=2.0 in /usr/local/lib/python3.7/dist-packages (from wandb) (2.3)\n",
            "Requirement already satisfied: requests<3,>=2.0.0 in /usr/local/lib/python3.7/dist-packages (from wandb) (2.23.0)\n",
            "Requirement already satisfied: python-dateutil>=2.6.1 in /usr/local/lib/python3.7/dist-packages (from wandb) (2.8.2)\n",
            "Requirement already satisfied: Click!=8.0.0,>=7.0 in /usr/local/lib/python3.7/dist-packages (from wandb) (7.1.2)\n",
            "Requirement already satisfied: six>=1.13.0 in /usr/local/lib/python3.7/dist-packages (from wandb) (1.15.0)\n",
            "Collecting yaspin>=1.0.0\n",
            "  Downloading yaspin-2.1.0-py3-none-any.whl (18 kB)\n",
            "Requirement already satisfied: typing-extensions>=3.7.4.3 in /usr/local/lib/python3.7/dist-packages (from GitPython>=1.0.0->wandb) (3.10.0.2)\n",
            "Collecting gitdb<5,>=4.0.1\n",
            "  Downloading gitdb-4.0.9-py3-none-any.whl (63 kB)\n",
            "\u001b[K     |████████████████████████████████| 63 kB 957 kB/s \n",
            "\u001b[?25hCollecting smmap<6,>=3.0.1\n",
            "  Downloading smmap-5.0.0-py3-none-any.whl (24 kB)\n",
            "Requirement already satisfied: urllib3!=1.25.0,!=1.25.1,<1.26,>=1.21.1 in /usr/local/lib/python3.7/dist-packages (from requests<3,>=2.0.0->wandb) (1.24.3)\n",
            "Requirement already satisfied: idna<3,>=2.5 in /usr/local/lib/python3.7/dist-packages (from requests<3,>=2.0.0->wandb) (2.10)\n",
            "Requirement already satisfied: certifi>=2017.4.17 in /usr/local/lib/python3.7/dist-packages (from requests<3,>=2.0.0->wandb) (2021.10.8)\n",
            "Requirement already satisfied: chardet<4,>=3.0.2 in /usr/local/lib/python3.7/dist-packages (from requests<3,>=2.0.0->wandb) (3.0.4)\n",
            "Requirement already satisfied: termcolor<2.0.0,>=1.1.0 in /usr/local/lib/python3.7/dist-packages (from yaspin>=1.0.0->wandb) (1.1.0)\n",
            "Building wheels for collected packages: pathtools\n",
            "  Building wheel for pathtools (setup.py) ... \u001b[?25l\u001b[?25hdone\n",
            "  Created wheel for pathtools: filename=pathtools-0.1.2-py3-none-any.whl size=8806 sha256=863795a3f4e3d0d968ccac56bd61387dfdfbd0cda84c5a5815be16026509d0a0\n",
            "  Stored in directory: /root/.cache/pip/wheels/3e/31/09/fa59cef12cdcfecc627b3d24273699f390e71828921b2cbba2\n",
            "Successfully built pathtools\n",
            "Installing collected packages: smmap, gitdb, yaspin, shortuuid, setproctitle, sentry-sdk, pathtools, GitPython, docker-pycreds, wandb\n",
            "Successfully installed GitPython-3.1.27 docker-pycreds-0.4.0 gitdb-4.0.9 pathtools-0.1.2 sentry-sdk-1.5.8 setproctitle-1.2.2 shortuuid-1.0.8 smmap-5.0.0 wandb-0.12.11 yaspin-2.1.0\n"
          ]
        }
      ]
    },
    {
      "cell_type": "code",
      "execution_count": null,
      "metadata": {
        "id": "avAG245d9q26"
      },
      "outputs": [],
      "source": [
        "import numpy as np\n",
        "import keras \n",
        "import tensorflow as tf\n",
        "import pandas as pd\n",
        "import wandb\n",
        "from tensorflow.keras import layers,models\n",
        "from tensorflow.keras.layers import Conv2D, MaxPooling2D, Dropout, Dense, Flatten, Activation , BatchNormalization\n",
        "from tensorflow.keras.preprocessing.image import ImageDataGenerator\n",
        "from wandb.keras import WandbCallback"
      ]
    },
    {
      "cell_type": "code",
      "source": [
        "!curl -SL https://storage.googleapis.com/wandb_datasets/nature_12K.zip > nature_12K.zip\n",
        "!unzip nature_12K.zip\n",
        "\n",
        "train_datapath='inaturalist_12K/train/'\n",
        "test_datapath='inaturalist_12K/val/'\n",
        "categories=['Amphibia','Animalia','Arachnida','Aves','Fungi','Insecta','Mammalia','Mollusca','Plantae','Reptilia']"
      ],
      "metadata": {
        "id": "bbDiFCp5vVvI"
      },
      "execution_count": null,
      "outputs": []
    },
    {
      "cell_type": "markdown",
      "source": [
        "# Q1 PART=A"
      ],
      "metadata": {
        "id": "WPCBBHXvP6qE"
      }
    },
    {
      "cell_type": "code",
      "source": [
        "def cnn_model(layer1, layer2, layer3, layer4, layer5, F,bn, dropout):\n",
        "  input_shape = (200,200,3) # input image  size \n",
        "\n",
        "  model = models.Sequential()\n",
        "  \n",
        "  # first layer\n",
        "  model.add(Conv2D(layer1, (F, F), input_shape=input_shape,activation='relu',name='layer1'))\n",
        "  model.add(MaxPooling2D(pool_size=(2, 2)))\n",
        "  if bn == 1:\n",
        "    model.add(BatchNormalization())\n",
        " \n",
        "  model.add(Conv2D(layer2, (F, F),input_shape=input_shape,activation='relu',name='layer2'))\n",
        "  model.add(MaxPooling2D(pool_size=(2, 2)))\n",
        "  if bn == 1:\n",
        "    model.add(BatchNormalization())\n",
        "\n",
        "  model.add(Conv2D(layer3, (F, F),input_shape=input_shape,activation='relu',name='layer3'))\n",
        "  model.add(MaxPooling2D(pool_size=(2, 2)))\n",
        "  if bn == 1:\n",
        "    model.add(BatchNormalization())\n",
        "\n",
        "  model.add(Conv2D(layer4, (F, F),input_shape=input_shape,activation='relu',name='layer4'))\n",
        "  model.add(MaxPooling2D(pool_size=(2, 2)))\n",
        "  if bn == 1:\n",
        "    model.add(BatchNormalization())\n",
        "\n",
        "  model.add(Conv2D(layer5, (F, F),input_shape=input_shape,activation='relu',name='layer5'))\n",
        "  model.add(MaxPooling2D(pool_size=(2, 2)))\n",
        "\n",
        "  model.add(Flatten())\n",
        "  model.add(Dense(128,activation='relu')) \n",
        "  model.add(Dropout(dropout))\n",
        "\n",
        "  model.add(Dense(10,activation='softmax'))\n",
        "\n",
        "  return model"
      ],
      "metadata": {
        "id": "7-yIJgVt2TbS"
      },
      "execution_count": null,
      "outputs": []
    },
    {
      "cell_type": "code",
      "source": [
        "wandb.init()\n",
        "\n",
        "sweep_config = {\n",
        "    'method': 'random', #grid, random\n",
        "    'metric': {\n",
        "      'name': 'accuracy',\n",
        "        \n",
        "    },\n",
        "    'parameters': {\n",
        "        'dropout': {\n",
        "            'values': [0.2]\n",
        "        },\n",
        "        'F_size': {\n",
        "            'values': [3] \n",
        "        },\n",
        "                \n",
        "        'layer1': {\n",
        "            'values': [16]\n",
        "        },\n",
        "\n",
        "        'layer2': {\n",
        "            'values': [32]\n",
        "        },\n",
        "\n",
        "        \n",
        "        'layer3': {\n",
        "            'values': [64]\n",
        "        },\n",
        "\n",
        "        \n",
        "        'layer4': {\n",
        "            'values': [128]\n",
        "        },\n",
        "\n",
        "        \n",
        "        'layer5': {\n",
        "            'values': [256]\n",
        "        },\n",
        "\n",
        "        'batch_norm': {\n",
        "            'values': [True]\n",
        "        },\n",
        "        'augmentation': {\n",
        "            'values': [False]\n",
        "        },\n",
        "    }\n",
        "}\n",
        "\n",
        "\n",
        "sweep_id = wandb.sweep(sweep_config, entity='jyothiraditya', project=\"assignment2\")\n",
        "\n",
        "\n",
        "\n",
        "wandb.sweep(sweep_config)\n",
        "config_defaults = {\n",
        "            'epochs': 5,\n",
        "            'learning_rate': 1e-2\n",
        "            \n",
        "          }\n",
        "\n",
        "def execute():\n",
        "    wandb.init(config = sweep_config)\n",
        "    wandb.log({\"images\" : wandb.Image(plt)})\n",
        "    config = wandb.config\n",
        "    #wandb.run.name = \"f_{}_hn_{}_bs_{}_ac_{}_learning_rate_{}_init_{}_\".format(config.hiddenlayers, config.hiddennodes, config.batch_size , config.activation_func ,config.learning_rate, config.initializer)\n",
        "    cnn_model(config.layer1, config.layer2, config.layer3, config.layer4, config.layer5, config.F_size,config.batch_norm, config.dropout)\n",
        "\n",
        "wandb.agent(sweep_id, execute)"
      ],
      "metadata": {
        "id": "mWrOKgqg2YwP"
      },
      "execution_count": null,
      "outputs": []
    },
    {
      "cell_type": "code",
      "source": [
        "def data_gen(train_datapath, test_datapath):\n",
        "  train_gen = ImageDataGenerator(rescale=1./255,validation_split=0.1).flow_from_directory(\n",
        "                                                     train_datapath,\n",
        "                                                     target_size=(224, 224),\n",
        "                                                     batch_size=5000,\n",
        "                                                     class_mode='rgb',\n",
        "                                                     subset='training',\n",
        "                                                     seed=123,\n",
        "                                                     label_mode='categorical')\n",
        "  val_gen = ImageDataGenerator(rescale=1./255,validation_split=0.1).flow_from_directory(\n",
        "                                                     train_datapath,\n",
        "                                                     target_size=(224, 224),\n",
        "                                                     batch_size=200,\n",
        "                                                     class_mode='rgb',\n",
        "                                                     subset='validation',\n",
        "                                                     seed=123,\n",
        "                                                     label_mode='categorical')\n",
        "  \n",
        "  AUTOTUNE = tf.data.AUTOTUNE\n",
        "\n",
        "  train_gen = train_gen.cache().shuffle(1000).prefetch(buffer_size=AUTOTUNE)\n",
        "  val_gen = val_gen.cache().prefetch(buffer_size=AUTOTUNE) \n",
        "  \n",
        "\n",
        "\n",
        "  x_train, y_train = next(train_gen)\n",
        "\n",
        "  x_val, y_val = next(val_gen)\n",
        "\n",
        "  train_test = ImageDataGenerator(rescale=1./255, \n",
        "                                  rotation_range=40,\n",
        "                                  width_shift_range=0.2,\n",
        "                                  height_shift_range=0.2,\n",
        "                                  shear_range=0.2,\n",
        "                                  zoom_range=0.2,\n",
        "                                  horizontal_flip=True,\n",
        "                                  fill_mode='nearest').flow_from_directory(test_datapath,\n",
        "                                                                           target_size=(224, 224),\n",
        "                                                                           batch_size=1000,\n",
        "                                                                           class_mode='rgb',\n",
        "                                                                           seed=123)\n",
        "  AUTOTUNE = tf.data.AUTOTUNE\n",
        "  train_test = train_test.cache().shuffle(1000).prefetch(buffer_size=AUTOTUNE)\n",
        "\n",
        "  x_test,y_test = next(train_test)\n",
        "\n",
        "  return x_train, y_test, x_val, y_val, x_test, y_test"
      ],
      "metadata": {
        "id": "xw65ga80tud6"
      },
      "execution_count": null,
      "outputs": []
    }
  ]
}