{
  "nbformat": 4,
  "nbformat_minor": 0,
  "metadata": {
    "colab": {
      "name": "Convolutional Neural Networks .ipynb",
      "provenance": [],
      "collapsed_sections": [],
      "authorship_tag": "ABX9TyPE+DWUv9L1Uz+szH5ZOHR/",
      "include_colab_link": true
    },
    "kernelspec": {
      "name": "python3",
      "display_name": "Python 3"
    },
    "language_info": {
      "name": "python"
    }
  },
  "cells": [
    {
      "cell_type": "markdown",
      "metadata": {
        "id": "view-in-github",
        "colab_type": "text"
      },
      "source": [
        "<a href=\"https://colab.research.google.com/github/girish445ai/Convolutional_Neural_Networks/blob/main/Convolutional_Neural_Networks_.ipynb\" target=\"_parent\"><img src=\"https://colab.research.google.com/assets/colab-badge.svg\" alt=\"Open In Colab\"/></a>"
      ]
    },
    {
      "cell_type": "code",
      "execution_count": 6,
      "metadata": {
        "id": "avAG245d9q26"
      },
      "outputs": [],
      "source": [
        "import numpy as np\n",
        "import keras \n",
        "import tensorflow as tf\n",
        "import pandas as pd\n",
        "from tensorflow.keras import layers,models\n",
        "from tensorflow.keras.layers import Conv2D, MaxPooling2D, Dropout, Dense, Flatten, Activation , BatchNormalization\n",
        "from tensorflow.keras.preprocessing.image import ImageDataGenerator"
      ]
    },
    {
      "cell_type": "code",
      "source": [
        "train='D:\\IIT madras\\inaturalist_12K\\train'\n",
        "test='D:\\IIT madras\\inaturalist_12K\\val'\n",
        "categories=['Amphibia','Animalia','Arachnida','Aves','Fungi','Insecta','Mammalia','Mollusca','Plantae','Reptilia']"
      ],
      "metadata": {
        "id": "bbDiFCp5vVvI"
      },
      "execution_count": 3,
      "outputs": []
    },
    {
      "cell_type": "code",
      "source": [
        "input_shape = (200,200,3)\n",
        "model = models.Sequential()\n",
        "model.add(Conv2D(16, (3, 3), input_shape=input_shape))\n",
        "model.add(Activation('relu'))\n",
        "model.add(MaxPooling2D(pool_size=(2, 2)))"
      ],
      "metadata": {
        "id": "3KR5jqpqYc9b"
      },
      "execution_count": 8,
      "outputs": []
    },
    {
      "cell_type": "markdown",
      "source": [
        "Step1:\n",
        "Build a cnn layer\n",
        "\n",
        "step 2:\n",
        "relu layer \n",
        "\n",
        "3.\n",
        "pooling layer \n",
        "4. Fully connected layer "
      ],
      "metadata": {
        "id": "XIh0wWr4DoRx"
      }
    },
    {
      "cell_type": "code",
      "source": [
        "model.summary()"
      ],
      "metadata": {
        "colab": {
          "base_uri": "https://localhost:8080/"
        },
        "id": "4rd0anSFBC_j",
        "outputId": "f9ad6347-7a17-4592-9fda-b81070013a42"
      },
      "execution_count": 10,
      "outputs": [
        {
          "output_type": "stream",
          "name": "stdout",
          "text": [
            "Model: \"sequential\"\n",
            "_________________________________________________________________\n",
            " Layer (type)                Output Shape              Param #   \n",
            "=================================================================\n",
            " conv2d (Conv2D)             (None, 198, 198, 16)      448       \n",
            "                                                                 \n",
            " activation (Activation)     (None, 198, 198, 16)      0         \n",
            "                                                                 \n",
            " max_pooling2d (MaxPooling2D  (None, 99, 99, 16)       0         \n",
            " )                                                               \n",
            "                                                                 \n",
            "=================================================================\n",
            "Total params: 448\n",
            "Trainable params: 448\n",
            "Non-trainable params: 0\n",
            "_________________________________________________________________\n"
          ]
        }
      ]
    },
    {
      "cell_type": "code",
      "source": [
        ""
      ],
      "metadata": {
        "id": "jZ_koHtGBE3M"
      },
      "execution_count": null,
      "outputs": []
    }
  ]
}